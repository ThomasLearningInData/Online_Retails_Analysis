{
 "cells": [
  {
   "cell_type": "code",
   "execution_count": 62,
   "metadata": {},
   "outputs": [],
   "source": [
    "import numpy as np\n",
    "import pandas as pd\n",
    "import matplotlib.pyplot as plt\n",
    "import datetime as dt\n",
    "import seaborn as sns\n",
    "import os\n",
    "import ipywidgets as widgets\n",
    "from IPython.display import display, clear_output\n",
    "import plotly.express as px\n",
    "import plotly.graph_objects as go\n",
    "\n"
   ]
  },
  {
   "cell_type": "code",
   "execution_count": 2,
   "metadata": {},
   "outputs": [],
   "source": [
    "df = pd.read_excel(\"Online Retail.xlsx\")"
   ]
  },
  {
   "cell_type": "code",
   "execution_count": 3,
   "metadata": {},
   "outputs": [
    {
     "data": {
      "text/plain": [
       "(541909, 8)"
      ]
     },
     "execution_count": 3,
     "metadata": {},
     "output_type": "execute_result"
    }
   ],
   "source": [
    "df.shape"
   ]
  },
  {
   "cell_type": "code",
   "execution_count": 4,
   "metadata": {},
   "outputs": [
    {
     "name": "stdout",
     "output_type": "stream",
     "text": [
      "<class 'pandas.core.frame.DataFrame'>\n",
      "RangeIndex: 541909 entries, 0 to 541908\n",
      "Data columns (total 8 columns):\n",
      " #   Column       Non-Null Count   Dtype         \n",
      "---  ------       --------------   -----         \n",
      " 0   InvoiceNo    541909 non-null  object        \n",
      " 1   StockCode    541909 non-null  object        \n",
      " 2   Description  540455 non-null  object        \n",
      " 3   Quantity     541909 non-null  int64         \n",
      " 4   InvoiceDate  541909 non-null  datetime64[ns]\n",
      " 5   UnitPrice    541909 non-null  float64       \n",
      " 6   CustomerID   406829 non-null  float64       \n",
      " 7   Country      541909 non-null  object        \n",
      "dtypes: datetime64[ns](1), float64(2), int64(1), object(4)\n",
      "memory usage: 33.1+ MB\n"
     ]
    }
   ],
   "source": [
    "df.info()"
   ]
  },
  {
   "cell_type": "code",
   "execution_count": 5,
   "metadata": {},
   "outputs": [
    {
     "data": {
      "text/html": [
       "<div>\n",
       "<style scoped>\n",
       "    .dataframe tbody tr th:only-of-type {\n",
       "        vertical-align: middle;\n",
       "    }\n",
       "\n",
       "    .dataframe tbody tr th {\n",
       "        vertical-align: top;\n",
       "    }\n",
       "\n",
       "    .dataframe thead th {\n",
       "        text-align: right;\n",
       "    }\n",
       "</style>\n",
       "<table border=\"1\" class=\"dataframe\">\n",
       "  <thead>\n",
       "    <tr style=\"text-align: right;\">\n",
       "      <th></th>\n",
       "      <th>InvoiceNo</th>\n",
       "      <th>StockCode</th>\n",
       "      <th>Description</th>\n",
       "      <th>Quantity</th>\n",
       "      <th>InvoiceDate</th>\n",
       "      <th>UnitPrice</th>\n",
       "      <th>CustomerID</th>\n",
       "      <th>Country</th>\n",
       "    </tr>\n",
       "  </thead>\n",
       "  <tbody>\n",
       "    <tr>\n",
       "      <th>0</th>\n",
       "      <td>536365</td>\n",
       "      <td>85123A</td>\n",
       "      <td>WHITE HANGING HEART T-LIGHT HOLDER</td>\n",
       "      <td>6</td>\n",
       "      <td>2010-12-01 08:26:00</td>\n",
       "      <td>2.55</td>\n",
       "      <td>17850.0</td>\n",
       "      <td>United Kingdom</td>\n",
       "    </tr>\n",
       "    <tr>\n",
       "      <th>1</th>\n",
       "      <td>536365</td>\n",
       "      <td>71053</td>\n",
       "      <td>WHITE METAL LANTERN</td>\n",
       "      <td>6</td>\n",
       "      <td>2010-12-01 08:26:00</td>\n",
       "      <td>3.39</td>\n",
       "      <td>17850.0</td>\n",
       "      <td>United Kingdom</td>\n",
       "    </tr>\n",
       "    <tr>\n",
       "      <th>2</th>\n",
       "      <td>536365</td>\n",
       "      <td>84406B</td>\n",
       "      <td>CREAM CUPID HEARTS COAT HANGER</td>\n",
       "      <td>8</td>\n",
       "      <td>2010-12-01 08:26:00</td>\n",
       "      <td>2.75</td>\n",
       "      <td>17850.0</td>\n",
       "      <td>United Kingdom</td>\n",
       "    </tr>\n",
       "    <tr>\n",
       "      <th>3</th>\n",
       "      <td>536365</td>\n",
       "      <td>84029G</td>\n",
       "      <td>KNITTED UNION FLAG HOT WATER BOTTLE</td>\n",
       "      <td>6</td>\n",
       "      <td>2010-12-01 08:26:00</td>\n",
       "      <td>3.39</td>\n",
       "      <td>17850.0</td>\n",
       "      <td>United Kingdom</td>\n",
       "    </tr>\n",
       "    <tr>\n",
       "      <th>4</th>\n",
       "      <td>536365</td>\n",
       "      <td>84029E</td>\n",
       "      <td>RED WOOLLY HOTTIE WHITE HEART.</td>\n",
       "      <td>6</td>\n",
       "      <td>2010-12-01 08:26:00</td>\n",
       "      <td>3.39</td>\n",
       "      <td>17850.0</td>\n",
       "      <td>United Kingdom</td>\n",
       "    </tr>\n",
       "  </tbody>\n",
       "</table>\n",
       "</div>"
      ],
      "text/plain": [
       "  InvoiceNo StockCode                          Description  Quantity  \\\n",
       "0    536365    85123A   WHITE HANGING HEART T-LIGHT HOLDER         6   \n",
       "1    536365     71053                  WHITE METAL LANTERN         6   \n",
       "2    536365    84406B       CREAM CUPID HEARTS COAT HANGER         8   \n",
       "3    536365    84029G  KNITTED UNION FLAG HOT WATER BOTTLE         6   \n",
       "4    536365    84029E       RED WOOLLY HOTTIE WHITE HEART.         6   \n",
       "\n",
       "          InvoiceDate  UnitPrice  CustomerID         Country  \n",
       "0 2010-12-01 08:26:00       2.55     17850.0  United Kingdom  \n",
       "1 2010-12-01 08:26:00       3.39     17850.0  United Kingdom  \n",
       "2 2010-12-01 08:26:00       2.75     17850.0  United Kingdom  \n",
       "3 2010-12-01 08:26:00       3.39     17850.0  United Kingdom  \n",
       "4 2010-12-01 08:26:00       3.39     17850.0  United Kingdom  "
      ]
     },
     "execution_count": 5,
     "metadata": {},
     "output_type": "execute_result"
    }
   ],
   "source": [
    "df.head()"
   ]
  },
  {
   "cell_type": "code",
   "execution_count": 6,
   "metadata": {},
   "outputs": [
    {
     "data": {
      "text/plain": [
       "InvoiceNo           0\n",
       "StockCode           0\n",
       "Description      1454\n",
       "Quantity            0\n",
       "InvoiceDate         0\n",
       "UnitPrice           0\n",
       "CustomerID     135080\n",
       "Country             0\n",
       "dtype: int64"
      ]
     },
     "execution_count": 6,
     "metadata": {},
     "output_type": "execute_result"
    }
   ],
   "source": [
    "df.isnull().sum()"
   ]
  },
  {
   "cell_type": "markdown",
   "metadata": {},
   "source": [
    "Since I am focusing on customer data, drop I will drop all NaN in CustomerID."
   ]
  },
  {
   "cell_type": "code",
   "execution_count": 7,
   "metadata": {},
   "outputs": [
    {
     "name": "stderr",
     "output_type": "stream",
     "text": [
      "/var/folders/x_/08j42z3j22377xv4cbjvxw880000gn/T/ipykernel_33740/3803321585.py:5: SettingWithCopyWarning: \n",
      "A value is trying to be set on a copy of a slice from a DataFrame.\n",
      "Try using .loc[row_indexer,col_indexer] = value instead\n",
      "\n",
      "See the caveats in the documentation: https://pandas.pydata.org/pandas-docs/stable/user_guide/indexing.html#returning-a-view-versus-a-copy\n",
      "  df_cleaned['Description'] = df_cleaned['Description'].fillna(' ')\n"
     ]
    },
    {
     "data": {
      "text/plain": [
       "(406829, 8)"
      ]
     },
     "execution_count": 7,
     "metadata": {},
     "output_type": "execute_result"
    }
   ],
   "source": [
    "# Drop missing value\n",
    "df_cleaned = df.dropna(subset=['CustomerID'])\n",
    "\n",
    "# Fill NaN with empty string\n",
    "df_cleaned['Description'] = df_cleaned['Description'].fillna(' ')\n",
    "df_cleaned.shape"
   ]
  },
  {
   "cell_type": "code",
   "execution_count": 8,
   "metadata": {},
   "outputs": [
    {
     "data": {
      "text/html": [
       "<div>\n",
       "<style scoped>\n",
       "    .dataframe tbody tr th:only-of-type {\n",
       "        vertical-align: middle;\n",
       "    }\n",
       "\n",
       "    .dataframe tbody tr th {\n",
       "        vertical-align: top;\n",
       "    }\n",
       "\n",
       "    .dataframe thead th {\n",
       "        text-align: right;\n",
       "    }\n",
       "</style>\n",
       "<table border=\"1\" class=\"dataframe\">\n",
       "  <thead>\n",
       "    <tr style=\"text-align: right;\">\n",
       "      <th></th>\n",
       "      <th>Quantity</th>\n",
       "      <th>InvoiceDate</th>\n",
       "      <th>UnitPrice</th>\n",
       "      <th>CustomerID</th>\n",
       "    </tr>\n",
       "  </thead>\n",
       "  <tbody>\n",
       "    <tr>\n",
       "      <th>count</th>\n",
       "      <td>406829.000000</td>\n",
       "      <td>406829</td>\n",
       "      <td>406829.000000</td>\n",
       "      <td>406829.000000</td>\n",
       "    </tr>\n",
       "    <tr>\n",
       "      <th>mean</th>\n",
       "      <td>12.061303</td>\n",
       "      <td>2011-07-10 16:30:57.879207424</td>\n",
       "      <td>3.460471</td>\n",
       "      <td>15287.690570</td>\n",
       "    </tr>\n",
       "    <tr>\n",
       "      <th>min</th>\n",
       "      <td>-80995.000000</td>\n",
       "      <td>2010-12-01 08:26:00</td>\n",
       "      <td>0.000000</td>\n",
       "      <td>12346.000000</td>\n",
       "    </tr>\n",
       "    <tr>\n",
       "      <th>25%</th>\n",
       "      <td>2.000000</td>\n",
       "      <td>2011-04-06 15:02:00</td>\n",
       "      <td>1.250000</td>\n",
       "      <td>13953.000000</td>\n",
       "    </tr>\n",
       "    <tr>\n",
       "      <th>50%</th>\n",
       "      <td>5.000000</td>\n",
       "      <td>2011-07-31 11:48:00</td>\n",
       "      <td>1.950000</td>\n",
       "      <td>15152.000000</td>\n",
       "    </tr>\n",
       "    <tr>\n",
       "      <th>75%</th>\n",
       "      <td>12.000000</td>\n",
       "      <td>2011-10-20 13:06:00</td>\n",
       "      <td>3.750000</td>\n",
       "      <td>16791.000000</td>\n",
       "    </tr>\n",
       "    <tr>\n",
       "      <th>max</th>\n",
       "      <td>80995.000000</td>\n",
       "      <td>2011-12-09 12:50:00</td>\n",
       "      <td>38970.000000</td>\n",
       "      <td>18287.000000</td>\n",
       "    </tr>\n",
       "    <tr>\n",
       "      <th>std</th>\n",
       "      <td>248.693370</td>\n",
       "      <td>NaN</td>\n",
       "      <td>69.315162</td>\n",
       "      <td>1713.600303</td>\n",
       "    </tr>\n",
       "  </tbody>\n",
       "</table>\n",
       "</div>"
      ],
      "text/plain": [
       "            Quantity                    InvoiceDate      UnitPrice  \\\n",
       "count  406829.000000                         406829  406829.000000   \n",
       "mean       12.061303  2011-07-10 16:30:57.879207424       3.460471   \n",
       "min    -80995.000000            2010-12-01 08:26:00       0.000000   \n",
       "25%         2.000000            2011-04-06 15:02:00       1.250000   \n",
       "50%         5.000000            2011-07-31 11:48:00       1.950000   \n",
       "75%        12.000000            2011-10-20 13:06:00       3.750000   \n",
       "max     80995.000000            2011-12-09 12:50:00   38970.000000   \n",
       "std       248.693370                            NaN      69.315162   \n",
       "\n",
       "          CustomerID  \n",
       "count  406829.000000  \n",
       "mean    15287.690570  \n",
       "min     12346.000000  \n",
       "25%     13953.000000  \n",
       "50%     15152.000000  \n",
       "75%     16791.000000  \n",
       "max     18287.000000  \n",
       "std      1713.600303  "
      ]
     },
     "execution_count": 8,
     "metadata": {},
     "output_type": "execute_result"
    }
   ],
   "source": [
    "df_cleaned.describe()"
   ]
  },
  {
   "cell_type": "code",
   "execution_count": 9,
   "metadata": {},
   "outputs": [
    {
     "data": {
      "text/plain": [
       "Country\n",
       "United Kingdom          361878\n",
       "Germany                   9495\n",
       "France                    8491\n",
       "EIRE                      7485\n",
       "Spain                     2533\n",
       "Netherlands               2371\n",
       "Belgium                   2069\n",
       "Switzerland               1877\n",
       "Portugal                  1480\n",
       "Australia                 1259\n",
       "Norway                    1086\n",
       "Italy                      803\n",
       "Channel Islands            758\n",
       "Finland                    695\n",
       "Cyprus                     622\n",
       "Sweden                     462\n",
       "Austria                    401\n",
       "Denmark                    389\n",
       "Japan                      358\n",
       "Poland                     341\n",
       "USA                        291\n",
       "Israel                     250\n",
       "Unspecified                244\n",
       "Singapore                  229\n",
       "Iceland                    182\n",
       "Canada                     151\n",
       "Greece                     146\n",
       "Malta                      127\n",
       "United Arab Emirates        68\n",
       "European Community          61\n",
       "RSA                         58\n",
       "Lebanon                     45\n",
       "Lithuania                   35\n",
       "Brazil                      32\n",
       "Czech Republic              30\n",
       "Bahrain                     17\n",
       "Saudi Arabia                10\n",
       "Name: count, dtype: int64"
      ]
     },
     "execution_count": 9,
     "metadata": {},
     "output_type": "execute_result"
    }
   ],
   "source": [
    "df_cleaned['Country'].value_counts()"
   ]
  },
  {
   "cell_type": "markdown",
   "metadata": {},
   "source": [
    "Most of the data are from UK, Germany, France  and EIRE. So I will focus on these countries."
   ]
  },
  {
   "cell_type": "code",
   "execution_count": 10,
   "metadata": {},
   "outputs": [],
   "source": [
    "df_cleaned = df_cleaned[df_cleaned['Country'].isin(['United Kingdom', 'Germany', \n",
    "                                                    'France', 'EIRE'])]"
   ]
  },
  {
   "cell_type": "code",
   "execution_count": 11,
   "metadata": {},
   "outputs": [
    {
     "data": {
      "text/plain": [
       "Country\n",
       "United Kingdom    361878\n",
       "Germany             9495\n",
       "France              8491\n",
       "EIRE                7485\n",
       "Name: count, dtype: int64"
      ]
     },
     "execution_count": 11,
     "metadata": {},
     "output_type": "execute_result"
    }
   ],
   "source": [
    "df_cleaned['Country'].value_counts()"
   ]
  },
  {
   "cell_type": "markdown",
   "metadata": {},
   "source": [
    "#### Feature Engineering"
   ]
  },
  {
   "cell_type": "code",
   "execution_count": 116,
   "metadata": {},
   "outputs": [],
   "source": [
    "df_cleaned['TotalSpend'] = df_cleaned['Quantity'] * df_cleaned['UnitPrice']\n",
    "df_cleaned['Year'] = df_cleaned['InvoiceDate'].dt.year\n",
    "df_cleaned['Month'] = df_cleaned['InvoiceDate'].dt.month\n",
    "df_cleaned['Day_of_Week'] = df_cleaned['InvoiceDate'].dt.day_name()\n",
    "df_cleaned['Is_weekend'] = df_cleaned['InvoiceDate'].dt.dayofweek.apply(lambda x: 1 if x >= 5 else 0)\n",
    "df_cleaned['Time'] = df_cleaned['InvoiceDate'].dt.time\n",
    "df_cleaned['Period'] = df_cleaned['InvoiceDate'].dt.strftime('%p')\n",
    "\n"
   ]
  },
  {
   "cell_type": "code",
   "execution_count": 117,
   "metadata": {},
   "outputs": [
    {
     "data": {
      "text/html": [
       "<div>\n",
       "<style scoped>\n",
       "    .dataframe tbody tr th:only-of-type {\n",
       "        vertical-align: middle;\n",
       "    }\n",
       "\n",
       "    .dataframe tbody tr th {\n",
       "        vertical-align: top;\n",
       "    }\n",
       "\n",
       "    .dataframe thead th {\n",
       "        text-align: right;\n",
       "    }\n",
       "</style>\n",
       "<table border=\"1\" class=\"dataframe\">\n",
       "  <thead>\n",
       "    <tr style=\"text-align: right;\">\n",
       "      <th></th>\n",
       "      <th>InvoiceNo</th>\n",
       "      <th>StockCode</th>\n",
       "      <th>Description</th>\n",
       "      <th>Quantity</th>\n",
       "      <th>InvoiceDate</th>\n",
       "      <th>UnitPrice</th>\n",
       "      <th>CustomerID</th>\n",
       "      <th>Country</th>\n",
       "      <th>TotalSpend</th>\n",
       "      <th>Year</th>\n",
       "      <th>Month</th>\n",
       "      <th>Day_of_Week</th>\n",
       "      <th>Is_weekend</th>\n",
       "      <th>Time</th>\n",
       "      <th>Period</th>\n",
       "    </tr>\n",
       "  </thead>\n",
       "  <tbody>\n",
       "    <tr>\n",
       "      <th>0</th>\n",
       "      <td>536365</td>\n",
       "      <td>85123A</td>\n",
       "      <td>WHITE HANGING HEART T-LIGHT HOLDER</td>\n",
       "      <td>6</td>\n",
       "      <td>2010-12-01 08:26:00</td>\n",
       "      <td>2.55</td>\n",
       "      <td>17850.0</td>\n",
       "      <td>United Kingdom</td>\n",
       "      <td>15.3</td>\n",
       "      <td>2010</td>\n",
       "      <td>12</td>\n",
       "      <td>Wednesday</td>\n",
       "      <td>0</td>\n",
       "      <td>08:26:00</td>\n",
       "      <td>AM</td>\n",
       "    </tr>\n",
       "  </tbody>\n",
       "</table>\n",
       "</div>"
      ],
      "text/plain": [
       "  InvoiceNo StockCode                         Description  Quantity  \\\n",
       "0    536365    85123A  WHITE HANGING HEART T-LIGHT HOLDER         6   \n",
       "\n",
       "          InvoiceDate  UnitPrice  CustomerID         Country  TotalSpend  \\\n",
       "0 2010-12-01 08:26:00       2.55     17850.0  United Kingdom        15.3   \n",
       "\n",
       "   Year  Month Day_of_Week  Is_weekend      Time Period  \n",
       "0  2010     12   Wednesday           0  08:26:00     AM  "
      ]
     },
     "execution_count": 117,
     "metadata": {},
     "output_type": "execute_result"
    }
   ],
   "source": [
    "df_cleaned.head(1)"
   ]
  },
  {
   "cell_type": "markdown",
   "metadata": {},
   "source": [
    "We can also analyze rush hours and lunchtime periods to identify when customers are most likely to purchase our products."
   ]
  },
  {
   "cell_type": "markdown",
   "metadata": {},
   "source": [
    "____"
   ]
  },
  {
   "cell_type": "markdown",
   "metadata": {},
   "source": [
    "### Explore the sales"
   ]
  },
  {
   "cell_type": "code",
   "execution_count": 14,
   "metadata": {},
   "outputs": [
    {
     "data": {
      "text/html": [
       "<div>\n",
       "<style scoped>\n",
       "    .dataframe tbody tr th:only-of-type {\n",
       "        vertical-align: middle;\n",
       "    }\n",
       "\n",
       "    .dataframe tbody tr th {\n",
       "        vertical-align: top;\n",
       "    }\n",
       "\n",
       "    .dataframe thead th {\n",
       "        text-align: right;\n",
       "    }\n",
       "</style>\n",
       "<table border=\"1\" class=\"dataframe\">\n",
       "  <thead>\n",
       "    <tr style=\"text-align: right;\">\n",
       "      <th></th>\n",
       "      <th>Country</th>\n",
       "      <th>Year</th>\n",
       "      <th>Month</th>\n",
       "      <th>Quantity</th>\n",
       "      <th>Total_revenue_per_m</th>\n",
       "      <th>Num_order_per_m</th>\n",
       "      <th>Date</th>\n",
       "    </tr>\n",
       "  </thead>\n",
       "  <tbody>\n",
       "    <tr>\n",
       "      <th>0</th>\n",
       "      <td>EIRE</td>\n",
       "      <td>2010</td>\n",
       "      <td>12</td>\n",
       "      <td>4858</td>\n",
       "      <td>7825.57</td>\n",
       "      <td>362</td>\n",
       "      <td>2010-12-31</td>\n",
       "    </tr>\n",
       "    <tr>\n",
       "      <th>1</th>\n",
       "      <td>EIRE</td>\n",
       "      <td>2011</td>\n",
       "      <td>1</td>\n",
       "      <td>8692</td>\n",
       "      <td>21671.52</td>\n",
       "      <td>188</td>\n",
       "      <td>2011-01-31</td>\n",
       "    </tr>\n",
       "    <tr>\n",
       "      <th>2</th>\n",
       "      <td>EIRE</td>\n",
       "      <td>2011</td>\n",
       "      <td>2</td>\n",
       "      <td>4289</td>\n",
       "      <td>7551.92</td>\n",
       "      <td>354</td>\n",
       "      <td>2011-02-28</td>\n",
       "    </tr>\n",
       "    <tr>\n",
       "      <th>3</th>\n",
       "      <td>EIRE</td>\n",
       "      <td>2011</td>\n",
       "      <td>3</td>\n",
       "      <td>9240</td>\n",
       "      <td>18270.28</td>\n",
       "      <td>537</td>\n",
       "      <td>2011-03-31</td>\n",
       "    </tr>\n",
       "    <tr>\n",
       "      <th>4</th>\n",
       "      <td>EIRE</td>\n",
       "      <td>2011</td>\n",
       "      <td>4</td>\n",
       "      <td>4135</td>\n",
       "      <td>7570.50</td>\n",
       "      <td>306</td>\n",
       "      <td>2011-04-30</td>\n",
       "    </tr>\n",
       "  </tbody>\n",
       "</table>\n",
       "</div>"
      ],
      "text/plain": [
       "  Country  Year  Month  Quantity  Total_revenue_per_m  Num_order_per_m  \\\n",
       "0    EIRE  2010     12      4858              7825.57              362   \n",
       "1    EIRE  2011      1      8692             21671.52              188   \n",
       "2    EIRE  2011      2      4289              7551.92              354   \n",
       "3    EIRE  2011      3      9240             18270.28              537   \n",
       "4    EIRE  2011      4      4135              7570.50              306   \n",
       "\n",
       "        Date  \n",
       "0 2010-12-31  \n",
       "1 2011-01-31  \n",
       "2 2011-02-28  \n",
       "3 2011-03-31  \n",
       "4 2011-04-30  "
      ]
     },
     "execution_count": 14,
     "metadata": {},
     "output_type": "execute_result"
    }
   ],
   "source": [
    "### Group by country and date\n",
    "country_summary = df_cleaned.groupby(['Country', 'Year', 'Month']).agg({\n",
    "    'Quantity': 'sum',\n",
    "    'TotalSpend': 'sum',\n",
    "    'InvoiceNo': 'count'\n",
    "}).reset_index()\n",
    "\n",
    "country_summary = country_summary.rename(columns={'InvoiceNo': 'Num_order_per_m', 'TotalSpend': 'Total_revenue_per_m'})\n",
    "country_summary['Date'] = pd.to_datetime(country_summary['Year'].astype(str) + '-' + country_summary['Month'].astype(str))\n",
    "country_summary['Date'] = country_summary['Date'] + pd.offsets.MonthEnd(1)\n",
    "country_summary['Date'] = pd.to_datetime(country_summary['Date']) \n",
    "country_summary.head()"
   ]
  },
  {
   "cell_type": "code",
   "execution_count": 15,
   "metadata": {},
   "outputs": [
    {
     "data": {
      "application/vnd.plotly.v1+json": {
       "config": {
        "plotlyServerURL": "https://plot.ly"
       },
       "data": [
        {
         "marker": {
          "color": "Crimson"
         },
         "name": "Orders - EIRE",
         "type": "bar",
         "x": [
          "2011-01-31T00:00:00",
          "2011-02-28T00:00:00",
          "2011-03-28T00:00:00",
          "2011-04-30T00:00:00",
          "2011-05-30T00:00:00",
          "2011-06-30T00:00:00",
          "2011-07-30T00:00:00",
          "2011-08-31T00:00:00",
          "2011-09-30T00:00:00",
          "2011-10-30T00:00:00",
          "2011-11-30T00:00:00",
          "2011-12-30T00:00:00",
          "2012-01-31T00:00:00"
         ],
         "y": [
          362,
          188,
          354,
          537,
          306,
          533,
          542,
          619,
          651,
          1106,
          929,
          1038,
          320
         ],
         "yaxis": "y"
        },
        {
         "line": {
          "color": "Gold"
         },
         "mode": "lines",
         "name": "Revenue - EIRE",
         "type": "scatter",
         "x": [
          "2011-01-31T00:00:00",
          "2011-02-28T00:00:00",
          "2011-03-28T00:00:00",
          "2011-04-30T00:00:00",
          "2011-05-30T00:00:00",
          "2011-06-30T00:00:00",
          "2011-07-30T00:00:00",
          "2011-08-31T00:00:00",
          "2011-09-30T00:00:00",
          "2011-10-30T00:00:00",
          "2011-11-30T00:00:00",
          "2011-12-30T00:00:00",
          "2012-01-31T00:00:00"
         ],
         "y": [
          7825.57,
          21671.52,
          7551.92,
          18270.28,
          7570.5,
          15894.78,
          19822.79,
          40874.15,
          10781,
          40590.69,
          23307.62,
          29148.03,
          6976.37
         ],
         "yaxis": "y2"
        },
        {
         "marker": {
          "color": "Crimson"
         },
         "name": "Orders - France",
         "type": "bar",
         "x": [
          "2011-01-31T00:00:00",
          "2011-02-28T00:00:00",
          "2011-03-28T00:00:00",
          "2011-04-30T00:00:00",
          "2011-05-30T00:00:00",
          "2011-06-30T00:00:00",
          "2011-07-30T00:00:00",
          "2011-08-31T00:00:00",
          "2011-09-30T00:00:00",
          "2011-10-30T00:00:00",
          "2011-11-30T00:00:00",
          "2011-12-30T00:00:00",
          "2012-01-31T00:00:00"
         ],
         "y": [
          439,
          675,
          426,
          550,
          233,
          728,
          593,
          453,
          571,
          1055,
          898,
          1531,
          339
         ],
         "yaxis": "y"
        },
        {
         "line": {
          "color": "Gold"
         },
         "mode": "lines",
         "name": "Revenue - France",
         "type": "scatter",
         "x": [
          "2011-01-31T00:00:00",
          "2011-02-28T00:00:00",
          "2011-03-28T00:00:00",
          "2011-04-30T00:00:00",
          "2011-05-30T00:00:00",
          "2011-06-30T00:00:00",
          "2011-07-30T00:00:00",
          "2011-08-31T00:00:00",
          "2011-09-30T00:00:00",
          "2011-10-30T00:00:00",
          "2011-11-30T00:00:00",
          "2011-12-30T00:00:00",
          "2012-01-31T00:00:00"
         ],
         "y": [
          9575.36,
          17503.07,
          8438.91,
          14516.9,
          4195.21,
          17527.079999999998,
          15722.43,
          9888.99,
          13789.26,
          23198.87,
          25032.04,
          30275.89,
          7048.83
         ],
         "yaxis": "y2"
        },
        {
         "marker": {
          "color": "Crimson"
         },
         "name": "Orders - Germany",
         "type": "bar",
         "x": [
          "2011-01-31T00:00:00",
          "2011-02-28T00:00:00",
          "2011-03-28T00:00:00",
          "2011-04-30T00:00:00",
          "2011-05-30T00:00:00",
          "2011-06-30T00:00:00",
          "2011-07-30T00:00:00",
          "2011-08-31T00:00:00",
          "2011-09-30T00:00:00",
          "2011-10-30T00:00:00",
          "2011-11-30T00:00:00",
          "2011-12-30T00:00:00",
          "2012-01-31T00:00:00"
         ],
         "y": [
          565,
          826,
          350,
          604,
          462,
          787,
          677,
          787,
          820,
          807,
          1322,
          1148,
          340
         ],
         "yaxis": "y"
        },
        {
         "line": {
          "color": "Gold"
         },
         "mode": "lines",
         "name": "Revenue - Germany",
         "type": "scatter",
         "x": [
          "2011-01-31T00:00:00",
          "2011-02-28T00:00:00",
          "2011-03-28T00:00:00",
          "2011-04-30T00:00:00",
          "2011-05-30T00:00:00",
          "2011-06-30T00:00:00",
          "2011-07-30T00:00:00",
          "2011-08-31T00:00:00",
          "2011-09-30T00:00:00",
          "2011-10-30T00:00:00",
          "2011-11-30T00:00:00",
          "2011-12-30T00:00:00",
          "2012-01-31T00:00:00"
         ],
         "y": [
          14562.84,
          16451.43,
          8969.24,
          14170.02,
          11963.37,
          25571.35,
          13081.02,
          15721.66,
          19023.65,
          17720.31,
          30614.27,
          26044.35,
          7804.7
         ],
         "yaxis": "y2"
        },
        {
         "marker": {
          "color": "Crimson"
         },
         "name": "Orders - United Kingdom",
         "type": "bar",
         "x": [
          "2011-01-31T00:00:00",
          "2011-02-28T00:00:00",
          "2011-03-28T00:00:00",
          "2011-04-30T00:00:00",
          "2011-05-30T00:00:00",
          "2011-06-30T00:00:00",
          "2011-07-30T00:00:00",
          "2011-08-31T00:00:00",
          "2011-09-30T00:00:00",
          "2011-10-30T00:00:00",
          "2011-11-30T00:00:00",
          "2011-12-30T00:00:00",
          "2012-01-31T00:00:00"
         ],
         "y": [
          24536,
          18738,
          18110,
          24587,
          21358,
          25738,
          24296,
          24170,
          23623,
          36333,
          44621,
          59691,
          16077
         ],
         "yaxis": "y"
        },
        {
         "line": {
          "color": "Gold"
         },
         "mode": "lines",
         "name": "Revenue - United Kingdom",
         "type": "scatter",
         "x": [
          "2011-01-31T00:00:00",
          "2011-02-28T00:00:00",
          "2011-03-28T00:00:00",
          "2011-04-30T00:00:00",
          "2011-05-30T00:00:00",
          "2011-06-30T00:00:00",
          "2011-07-30T00:00:00",
          "2011-08-31T00:00:00",
          "2011-09-30T00:00:00",
          "2011-10-30T00:00:00",
          "2011-11-30T00:00:00",
          "2011-12-30T00:00:00",
          "2012-01-31T00:00:00"
         ],
         "y": [
          483799.74,
          351981.27999999997,
          348853.63,
          456917.87,
          376744.411,
          525573.35,
          472509.25,
          461147.601,
          477008.41000000003,
          776529.8420000001,
          782777.88,
          956109.66,
          297920.47000000003
         ],
         "yaxis": "y2"
        }
       ],
       "layout": {
        "barmode": "group",
        "template": {
         "data": {
          "bar": [
           {
            "error_x": {
             "color": "#2a3f5f"
            },
            "error_y": {
             "color": "#2a3f5f"
            },
            "marker": {
             "line": {
              "color": "#E5ECF6",
              "width": 0.5
             },
             "pattern": {
              "fillmode": "overlay",
              "size": 10,
              "solidity": 0.2
             }
            },
            "type": "bar"
           }
          ],
          "barpolar": [
           {
            "marker": {
             "line": {
              "color": "#E5ECF6",
              "width": 0.5
             },
             "pattern": {
              "fillmode": "overlay",
              "size": 10,
              "solidity": 0.2
             }
            },
            "type": "barpolar"
           }
          ],
          "carpet": [
           {
            "aaxis": {
             "endlinecolor": "#2a3f5f",
             "gridcolor": "white",
             "linecolor": "white",
             "minorgridcolor": "white",
             "startlinecolor": "#2a3f5f"
            },
            "baxis": {
             "endlinecolor": "#2a3f5f",
             "gridcolor": "white",
             "linecolor": "white",
             "minorgridcolor": "white",
             "startlinecolor": "#2a3f5f"
            },
            "type": "carpet"
           }
          ],
          "choropleth": [
           {
            "colorbar": {
             "outlinewidth": 0,
             "ticks": ""
            },
            "type": "choropleth"
           }
          ],
          "contour": [
           {
            "colorbar": {
             "outlinewidth": 0,
             "ticks": ""
            },
            "colorscale": [
             [
              0,
              "#0d0887"
             ],
             [
              0.1111111111111111,
              "#46039f"
             ],
             [
              0.2222222222222222,
              "#7201a8"
             ],
             [
              0.3333333333333333,
              "#9c179e"
             ],
             [
              0.4444444444444444,
              "#bd3786"
             ],
             [
              0.5555555555555556,
              "#d8576b"
             ],
             [
              0.6666666666666666,
              "#ed7953"
             ],
             [
              0.7777777777777778,
              "#fb9f3a"
             ],
             [
              0.8888888888888888,
              "#fdca26"
             ],
             [
              1,
              "#f0f921"
             ]
            ],
            "type": "contour"
           }
          ],
          "contourcarpet": [
           {
            "colorbar": {
             "outlinewidth": 0,
             "ticks": ""
            },
            "type": "contourcarpet"
           }
          ],
          "heatmap": [
           {
            "colorbar": {
             "outlinewidth": 0,
             "ticks": ""
            },
            "colorscale": [
             [
              0,
              "#0d0887"
             ],
             [
              0.1111111111111111,
              "#46039f"
             ],
             [
              0.2222222222222222,
              "#7201a8"
             ],
             [
              0.3333333333333333,
              "#9c179e"
             ],
             [
              0.4444444444444444,
              "#bd3786"
             ],
             [
              0.5555555555555556,
              "#d8576b"
             ],
             [
              0.6666666666666666,
              "#ed7953"
             ],
             [
              0.7777777777777778,
              "#fb9f3a"
             ],
             [
              0.8888888888888888,
              "#fdca26"
             ],
             [
              1,
              "#f0f921"
             ]
            ],
            "type": "heatmap"
           }
          ],
          "heatmapgl": [
           {
            "colorbar": {
             "outlinewidth": 0,
             "ticks": ""
            },
            "colorscale": [
             [
              0,
              "#0d0887"
             ],
             [
              0.1111111111111111,
              "#46039f"
             ],
             [
              0.2222222222222222,
              "#7201a8"
             ],
             [
              0.3333333333333333,
              "#9c179e"
             ],
             [
              0.4444444444444444,
              "#bd3786"
             ],
             [
              0.5555555555555556,
              "#d8576b"
             ],
             [
              0.6666666666666666,
              "#ed7953"
             ],
             [
              0.7777777777777778,
              "#fb9f3a"
             ],
             [
              0.8888888888888888,
              "#fdca26"
             ],
             [
              1,
              "#f0f921"
             ]
            ],
            "type": "heatmapgl"
           }
          ],
          "histogram": [
           {
            "marker": {
             "pattern": {
              "fillmode": "overlay",
              "size": 10,
              "solidity": 0.2
             }
            },
            "type": "histogram"
           }
          ],
          "histogram2d": [
           {
            "colorbar": {
             "outlinewidth": 0,
             "ticks": ""
            },
            "colorscale": [
             [
              0,
              "#0d0887"
             ],
             [
              0.1111111111111111,
              "#46039f"
             ],
             [
              0.2222222222222222,
              "#7201a8"
             ],
             [
              0.3333333333333333,
              "#9c179e"
             ],
             [
              0.4444444444444444,
              "#bd3786"
             ],
             [
              0.5555555555555556,
              "#d8576b"
             ],
             [
              0.6666666666666666,
              "#ed7953"
             ],
             [
              0.7777777777777778,
              "#fb9f3a"
             ],
             [
              0.8888888888888888,
              "#fdca26"
             ],
             [
              1,
              "#f0f921"
             ]
            ],
            "type": "histogram2d"
           }
          ],
          "histogram2dcontour": [
           {
            "colorbar": {
             "outlinewidth": 0,
             "ticks": ""
            },
            "colorscale": [
             [
              0,
              "#0d0887"
             ],
             [
              0.1111111111111111,
              "#46039f"
             ],
             [
              0.2222222222222222,
              "#7201a8"
             ],
             [
              0.3333333333333333,
              "#9c179e"
             ],
             [
              0.4444444444444444,
              "#bd3786"
             ],
             [
              0.5555555555555556,
              "#d8576b"
             ],
             [
              0.6666666666666666,
              "#ed7953"
             ],
             [
              0.7777777777777778,
              "#fb9f3a"
             ],
             [
              0.8888888888888888,
              "#fdca26"
             ],
             [
              1,
              "#f0f921"
             ]
            ],
            "type": "histogram2dcontour"
           }
          ],
          "mesh3d": [
           {
            "colorbar": {
             "outlinewidth": 0,
             "ticks": ""
            },
            "type": "mesh3d"
           }
          ],
          "parcoords": [
           {
            "line": {
             "colorbar": {
              "outlinewidth": 0,
              "ticks": ""
             }
            },
            "type": "parcoords"
           }
          ],
          "pie": [
           {
            "automargin": true,
            "type": "pie"
           }
          ],
          "scatter": [
           {
            "fillpattern": {
             "fillmode": "overlay",
             "size": 10,
             "solidity": 0.2
            },
            "type": "scatter"
           }
          ],
          "scatter3d": [
           {
            "line": {
             "colorbar": {
              "outlinewidth": 0,
              "ticks": ""
             }
            },
            "marker": {
             "colorbar": {
              "outlinewidth": 0,
              "ticks": ""
             }
            },
            "type": "scatter3d"
           }
          ],
          "scattercarpet": [
           {
            "marker": {
             "colorbar": {
              "outlinewidth": 0,
              "ticks": ""
             }
            },
            "type": "scattercarpet"
           }
          ],
          "scattergeo": [
           {
            "marker": {
             "colorbar": {
              "outlinewidth": 0,
              "ticks": ""
             }
            },
            "type": "scattergeo"
           }
          ],
          "scattergl": [
           {
            "marker": {
             "colorbar": {
              "outlinewidth": 0,
              "ticks": ""
             }
            },
            "type": "scattergl"
           }
          ],
          "scattermapbox": [
           {
            "marker": {
             "colorbar": {
              "outlinewidth": 0,
              "ticks": ""
             }
            },
            "type": "scattermapbox"
           }
          ],
          "scatterpolar": [
           {
            "marker": {
             "colorbar": {
              "outlinewidth": 0,
              "ticks": ""
             }
            },
            "type": "scatterpolar"
           }
          ],
          "scatterpolargl": [
           {
            "marker": {
             "colorbar": {
              "outlinewidth": 0,
              "ticks": ""
             }
            },
            "type": "scatterpolargl"
           }
          ],
          "scatterternary": [
           {
            "marker": {
             "colorbar": {
              "outlinewidth": 0,
              "ticks": ""
             }
            },
            "type": "scatterternary"
           }
          ],
          "surface": [
           {
            "colorbar": {
             "outlinewidth": 0,
             "ticks": ""
            },
            "colorscale": [
             [
              0,
              "#0d0887"
             ],
             [
              0.1111111111111111,
              "#46039f"
             ],
             [
              0.2222222222222222,
              "#7201a8"
             ],
             [
              0.3333333333333333,
              "#9c179e"
             ],
             [
              0.4444444444444444,
              "#bd3786"
             ],
             [
              0.5555555555555556,
              "#d8576b"
             ],
             [
              0.6666666666666666,
              "#ed7953"
             ],
             [
              0.7777777777777778,
              "#fb9f3a"
             ],
             [
              0.8888888888888888,
              "#fdca26"
             ],
             [
              1,
              "#f0f921"
             ]
            ],
            "type": "surface"
           }
          ],
          "table": [
           {
            "cells": {
             "fill": {
              "color": "#EBF0F8"
             },
             "line": {
              "color": "white"
             }
            },
            "header": {
             "fill": {
              "color": "#C8D4E3"
             },
             "line": {
              "color": "white"
             }
            },
            "type": "table"
           }
          ]
         },
         "layout": {
          "annotationdefaults": {
           "arrowcolor": "#2a3f5f",
           "arrowhead": 0,
           "arrowwidth": 1
          },
          "autotypenumbers": "strict",
          "coloraxis": {
           "colorbar": {
            "outlinewidth": 0,
            "ticks": ""
           }
          },
          "colorscale": {
           "diverging": [
            [
             0,
             "#8e0152"
            ],
            [
             0.1,
             "#c51b7d"
            ],
            [
             0.2,
             "#de77ae"
            ],
            [
             0.3,
             "#f1b6da"
            ],
            [
             0.4,
             "#fde0ef"
            ],
            [
             0.5,
             "#f7f7f7"
            ],
            [
             0.6,
             "#e6f5d0"
            ],
            [
             0.7,
             "#b8e186"
            ],
            [
             0.8,
             "#7fbc41"
            ],
            [
             0.9,
             "#4d9221"
            ],
            [
             1,
             "#276419"
            ]
           ],
           "sequential": [
            [
             0,
             "#0d0887"
            ],
            [
             0.1111111111111111,
             "#46039f"
            ],
            [
             0.2222222222222222,
             "#7201a8"
            ],
            [
             0.3333333333333333,
             "#9c179e"
            ],
            [
             0.4444444444444444,
             "#bd3786"
            ],
            [
             0.5555555555555556,
             "#d8576b"
            ],
            [
             0.6666666666666666,
             "#ed7953"
            ],
            [
             0.7777777777777778,
             "#fb9f3a"
            ],
            [
             0.8888888888888888,
             "#fdca26"
            ],
            [
             1,
             "#f0f921"
            ]
           ],
           "sequentialminus": [
            [
             0,
             "#0d0887"
            ],
            [
             0.1111111111111111,
             "#46039f"
            ],
            [
             0.2222222222222222,
             "#7201a8"
            ],
            [
             0.3333333333333333,
             "#9c179e"
            ],
            [
             0.4444444444444444,
             "#bd3786"
            ],
            [
             0.5555555555555556,
             "#d8576b"
            ],
            [
             0.6666666666666666,
             "#ed7953"
            ],
            [
             0.7777777777777778,
             "#fb9f3a"
            ],
            [
             0.8888888888888888,
             "#fdca26"
            ],
            [
             1,
             "#f0f921"
            ]
           ]
          },
          "colorway": [
           "#636efa",
           "#EF553B",
           "#00cc96",
           "#ab63fa",
           "#FFA15A",
           "#19d3f3",
           "#FF6692",
           "#B6E880",
           "#FF97FF",
           "#FECB52"
          ],
          "font": {
           "color": "#2a3f5f"
          },
          "geo": {
           "bgcolor": "white",
           "lakecolor": "white",
           "landcolor": "#E5ECF6",
           "showlakes": true,
           "showland": true,
           "subunitcolor": "white"
          },
          "hoverlabel": {
           "align": "left"
          },
          "hovermode": "closest",
          "mapbox": {
           "style": "light"
          },
          "paper_bgcolor": "white",
          "plot_bgcolor": "#E5ECF6",
          "polar": {
           "angularaxis": {
            "gridcolor": "white",
            "linecolor": "white",
            "ticks": ""
           },
           "bgcolor": "#E5ECF6",
           "radialaxis": {
            "gridcolor": "white",
            "linecolor": "white",
            "ticks": ""
           }
          },
          "scene": {
           "xaxis": {
            "backgroundcolor": "#E5ECF6",
            "gridcolor": "white",
            "gridwidth": 2,
            "linecolor": "white",
            "showbackground": true,
            "ticks": "",
            "zerolinecolor": "white"
           },
           "yaxis": {
            "backgroundcolor": "#E5ECF6",
            "gridcolor": "white",
            "gridwidth": 2,
            "linecolor": "white",
            "showbackground": true,
            "ticks": "",
            "zerolinecolor": "white"
           },
           "zaxis": {
            "backgroundcolor": "#E5ECF6",
            "gridcolor": "white",
            "gridwidth": 2,
            "linecolor": "white",
            "showbackground": true,
            "ticks": "",
            "zerolinecolor": "white"
           }
          },
          "shapedefaults": {
           "line": {
            "color": "#2a3f5f"
           }
          },
          "ternary": {
           "aaxis": {
            "gridcolor": "white",
            "linecolor": "white",
            "ticks": ""
           },
           "baxis": {
            "gridcolor": "white",
            "linecolor": "white",
            "ticks": ""
           },
           "bgcolor": "#E5ECF6",
           "caxis": {
            "gridcolor": "white",
            "linecolor": "white",
            "ticks": ""
           }
          },
          "title": {
           "x": 0.05
          },
          "xaxis": {
           "automargin": true,
           "gridcolor": "white",
           "linecolor": "white",
           "ticks": "",
           "title": {
            "standoff": 15
           },
           "zerolinecolor": "white",
           "zerolinewidth": 2
          },
          "yaxis": {
           "automargin": true,
           "gridcolor": "white",
           "linecolor": "white",
           "ticks": "",
           "title": {
            "standoff": 15
           },
           "zerolinecolor": "white",
           "zerolinewidth": 2
          }
         }
        },
        "title": {
         "text": "Monthly Total Revenue and Number of Orders by Country"
        },
        "updatemenus": [
         {
          "buttons": [
           {
            "args": [
             {
              "visible": [
               true,
               true,
               true,
               true,
               true,
               true,
               true,
               true
              ]
             }
            ],
            "label": "All Countries",
            "method": "update"
           },
           {
            "args": [
             {
              "visible": [
               true,
               true,
               false,
               false,
               false,
               false,
               false,
               false
              ]
             }
            ],
            "label": "EIRE",
            "method": "update"
           },
           {
            "args": [
             {
              "visible": [
               false,
               false,
               true,
               true,
               false,
               false,
               false,
               false
              ]
             }
            ],
            "label": "France",
            "method": "update"
           },
           {
            "args": [
             {
              "visible": [
               false,
               false,
               false,
               false,
               true,
               true,
               false,
               false
              ]
             }
            ],
            "label": "Germany",
            "method": "update"
           },
           {
            "args": [
             {
              "visible": [
               false,
               false,
               false,
               false,
               false,
               false,
               true,
               true
              ]
             }
            ],
            "label": "United Kingdom",
            "method": "update"
           }
          ],
          "direction": "down",
          "pad": {
           "r": 10,
           "t": 10
          },
          "showactive": true,
          "x": 0.1,
          "xanchor": "left",
          "y": 1.15,
          "yanchor": "top"
         }
        ],
        "xaxis": {
         "ticktext": [
          "Jan 2011",
          "Feb 2011",
          "Mar 2011",
          "Apr 2011",
          "May 2011",
          "Jun 2011",
          "Jul 2011",
          "Aug 2011",
          "Sep 2011",
          "Oct 2011",
          "Nov 2011",
          "Dec 2011",
          "Jan 2012"
         ],
         "tickvals": [
          "2011-01-31T00:00:00.000000000",
          "2011-02-28T00:00:00.000000000",
          "2011-03-28T00:00:00.000000000",
          "2011-04-30T00:00:00.000000000",
          "2011-05-30T00:00:00.000000000",
          "2011-06-30T00:00:00.000000000",
          "2011-07-30T00:00:00.000000000",
          "2011-08-31T00:00:00.000000000",
          "2011-09-30T00:00:00.000000000",
          "2011-10-30T00:00:00.000000000",
          "2011-11-30T00:00:00.000000000",
          "2011-12-30T00:00:00.000000000",
          "2012-01-31T00:00:00.000000000"
         ],
         "title": {
          "text": "Date"
         }
        },
        "yaxis": {
         "tickfont": {
          "color": "Crimson"
         },
         "title": {
          "font": {
           "color": "Crimson"
          },
          "text": "Number of Orders"
         }
        },
        "yaxis2": {
         "overlaying": "y",
         "side": "right",
         "tickfont": {
          "color": "Gold"
         },
         "title": {
          "font": {
           "color": "Gold"
          },
          "text": "Total Revenue"
         }
        }
       }
      }
     },
     "metadata": {},
     "output_type": "display_data"
    }
   ],
   "source": [
    "all_countries = country_summary['Country'].unique()\n",
    "fig = go.Figure()\n",
    "\n",
    "# Calculate new tick values and labels\n",
    "unique_dates = country_summary['Date'].unique()\n",
    "shifted_dates = pd.to_datetime(unique_dates) + pd.DateOffset(months=1)\n",
    "shifted_labels = [date.strftime('%b %Y') for date in shifted_dates]\n",
    "\n",
    "# Define country_buttons as described above\n",
    "country_buttons = [\n",
    "    dict(label='All Countries',\n",
    "         method='update',\n",
    "         args=[{'visible': [True] * len(all_countries) * 2}]\n",
    "    )\n",
    "]\n",
    "for i, country in enumerate(all_countries):\n",
    "    visibility = [False] * len(all_countries) * 2\n",
    "    visibility[i*2] = True\n",
    "    visibility[i*2+1] = True\n",
    "    country_buttons.append(\n",
    "        dict(label=country,\n",
    "             method='update',\n",
    "             args=[{'visible': visibility}]\n",
    "        )\n",
    "    )\n",
    "\n",
    "# Add bar and line traces for each country\n",
    "for country in all_countries:\n",
    "    country_data = country_summary[country_summary['Country'] == country]\n",
    "    plotting_dates = country_data['Date'] + pd.DateOffset(months=1)\n",
    "    \n",
    "    fig.add_trace(go.Bar(\n",
    "        x=plotting_dates,\n",
    "        y=country_data['Num_order_per_m'],\n",
    "        name=f'Orders - {country}',\n",
    "        marker_color='Crimson',\n",
    "        yaxis='y1',\n",
    "    ))\n",
    "    \n",
    "    fig.add_trace(go.Scatter(\n",
    "        x=plotting_dates,\n",
    "        y=country_data['Total_revenue_per_m'],\n",
    "        name=f'Revenue - {country}',\n",
    "        mode='lines',\n",
    "        line=dict(color='Gold'),\n",
    "        yaxis='y2',\n",
    "    ))\n",
    "\n",
    "fig.update_layout(\n",
    "    title='Monthly Total Revenue and Number of Orders by Country',\n",
    "    xaxis=dict(\n",
    "        title='Date',\n",
    "        tickvals=shifted_dates,\n",
    "        ticktext=shifted_labels,\n",
    "    ),\n",
    "    yaxis=dict(\n",
    "        title='Number of Orders',\n",
    "        titlefont=dict(color='Crimson'),\n",
    "        tickfont=dict(color='Crimson'),\n",
    "    ),\n",
    "    yaxis2=dict(\n",
    "        title='Total Revenue',\n",
    "        titlefont=dict(color='Gold'),\n",
    "        tickfont=dict(color='Gold'),\n",
    "        overlaying='y',\n",
    "        side='right',\n",
    "    ),\n",
    "    barmode='group',\n",
    "    updatemenus=[{\n",
    "        'buttons': country_buttons,\n",
    "        'direction': 'down',\n",
    "        'pad': {'r': 10, 't': 10},\n",
    "        'showactive': True,\n",
    "        'x': 0.1,\n",
    "        'xanchor': 'left',\n",
    "        'y': 1.15,\n",
    "        'yanchor': 'top'\n",
    "    }]\n",
    ")\n",
    "\n",
    "fig.show()"
   ]
  },
  {
   "cell_type": "markdown",
   "metadata": {},
   "source": [
    "____"
   ]
  },
  {
   "cell_type": "markdown",
   "metadata": {},
   "source": [
    "### Country_weekend_analysis"
   ]
  },
  {
   "cell_type": "code",
   "execution_count": 17,
   "metadata": {},
   "outputs": [
    {
     "data": {
      "text/html": [
       "<div>\n",
       "<style scoped>\n",
       "    .dataframe tbody tr th:only-of-type {\n",
       "        vertical-align: middle;\n",
       "    }\n",
       "\n",
       "    .dataframe tbody tr th {\n",
       "        vertical-align: top;\n",
       "    }\n",
       "\n",
       "    .dataframe thead th {\n",
       "        text-align: right;\n",
       "    }\n",
       "</style>\n",
       "<table border=\"1\" class=\"dataframe\">\n",
       "  <thead>\n",
       "    <tr style=\"text-align: right;\">\n",
       "      <th></th>\n",
       "      <th>Country</th>\n",
       "      <th>Is_weekend</th>\n",
       "      <th>Total_Purchases</th>\n",
       "      <th>Weekday_Purchases</th>\n",
       "      <th>Weekend_Purchase_Rate</th>\n",
       "    </tr>\n",
       "  </thead>\n",
       "  <tbody>\n",
       "    <tr>\n",
       "      <th>0</th>\n",
       "      <td>EIRE</td>\n",
       "      <td>464</td>\n",
       "      <td>7485</td>\n",
       "      <td>7021</td>\n",
       "      <td>0.061991</td>\n",
       "    </tr>\n",
       "    <tr>\n",
       "      <th>1</th>\n",
       "      <td>France</td>\n",
       "      <td>649</td>\n",
       "      <td>8491</td>\n",
       "      <td>7842</td>\n",
       "      <td>0.076434</td>\n",
       "    </tr>\n",
       "    <tr>\n",
       "      <th>2</th>\n",
       "      <td>Germany</td>\n",
       "      <td>797</td>\n",
       "      <td>9495</td>\n",
       "      <td>8698</td>\n",
       "      <td>0.083939</td>\n",
       "    </tr>\n",
       "    <tr>\n",
       "      <th>3</th>\n",
       "      <td>United Kingdom</td>\n",
       "      <td>60103</td>\n",
       "      <td>361878</td>\n",
       "      <td>301775</td>\n",
       "      <td>0.166086</td>\n",
       "    </tr>\n",
       "  </tbody>\n",
       "</table>\n",
       "</div>"
      ],
      "text/plain": [
       "          Country  Is_weekend  Total_Purchases  Weekday_Purchases  \\\n",
       "0            EIRE         464             7485               7021   \n",
       "1          France         649             8491               7842   \n",
       "2         Germany         797             9495               8698   \n",
       "3  United Kingdom       60103           361878             301775   \n",
       "\n",
       "   Weekend_Purchase_Rate  \n",
       "0               0.061991  \n",
       "1               0.076434  \n",
       "2               0.083939  \n",
       "3               0.166086  "
      ]
     },
     "execution_count": 17,
     "metadata": {},
     "output_type": "execute_result"
    }
   ],
   "source": [
    "# Country_weekend_analysis\n",
    "country_weekend_analysis = df_cleaned.groupby(['Country']).agg({\n",
    "    'Is_weekend': 'sum',  \n",
    "    'InvoiceNo': 'count'  \n",
    "}).rename(columns={'InvoiceNo': 'Total_Purchases'})\n",
    "\n",
    "country_weekend_analysis['Weekday_Purchases'] = country_weekend_analysis['Total_Purchases'] - country_weekend_analysis['Is_weekend']\n",
    "country_weekend_analysis['Weekend_Purchase_Rate'] = country_weekend_analysis['Is_weekend'] / country_weekend_analysis['Total_Purchases']\n",
    "country_weekend_analysis.reset_index(inplace=True)\n",
    "country_weekend_analysis"
   ]
  },
  {
   "cell_type": "code",
   "execution_count": 18,
   "metadata": {},
   "outputs": [
    {
     "data": {
      "application/vnd.plotly.v1+json": {
       "config": {
        "plotlyServerURL": "https://plot.ly"
       },
       "data": [
        {
         "labels": [
          "Weekend Purchases",
          "Weekday Purchases"
         ],
         "name": "",
         "type": "pie",
         "values": [
          464,
          7021
         ]
        }
       ],
       "layout": {
        "template": {
         "data": {
          "bar": [
           {
            "error_x": {
             "color": "#2a3f5f"
            },
            "error_y": {
             "color": "#2a3f5f"
            },
            "marker": {
             "line": {
              "color": "#E5ECF6",
              "width": 0.5
             },
             "pattern": {
              "fillmode": "overlay",
              "size": 10,
              "solidity": 0.2
             }
            },
            "type": "bar"
           }
          ],
          "barpolar": [
           {
            "marker": {
             "line": {
              "color": "#E5ECF6",
              "width": 0.5
             },
             "pattern": {
              "fillmode": "overlay",
              "size": 10,
              "solidity": 0.2
             }
            },
            "type": "barpolar"
           }
          ],
          "carpet": [
           {
            "aaxis": {
             "endlinecolor": "#2a3f5f",
             "gridcolor": "white",
             "linecolor": "white",
             "minorgridcolor": "white",
             "startlinecolor": "#2a3f5f"
            },
            "baxis": {
             "endlinecolor": "#2a3f5f",
             "gridcolor": "white",
             "linecolor": "white",
             "minorgridcolor": "white",
             "startlinecolor": "#2a3f5f"
            },
            "type": "carpet"
           }
          ],
          "choropleth": [
           {
            "colorbar": {
             "outlinewidth": 0,
             "ticks": ""
            },
            "type": "choropleth"
           }
          ],
          "contour": [
           {
            "colorbar": {
             "outlinewidth": 0,
             "ticks": ""
            },
            "colorscale": [
             [
              0,
              "#0d0887"
             ],
             [
              0.1111111111111111,
              "#46039f"
             ],
             [
              0.2222222222222222,
              "#7201a8"
             ],
             [
              0.3333333333333333,
              "#9c179e"
             ],
             [
              0.4444444444444444,
              "#bd3786"
             ],
             [
              0.5555555555555556,
              "#d8576b"
             ],
             [
              0.6666666666666666,
              "#ed7953"
             ],
             [
              0.7777777777777778,
              "#fb9f3a"
             ],
             [
              0.8888888888888888,
              "#fdca26"
             ],
             [
              1,
              "#f0f921"
             ]
            ],
            "type": "contour"
           }
          ],
          "contourcarpet": [
           {
            "colorbar": {
             "outlinewidth": 0,
             "ticks": ""
            },
            "type": "contourcarpet"
           }
          ],
          "heatmap": [
           {
            "colorbar": {
             "outlinewidth": 0,
             "ticks": ""
            },
            "colorscale": [
             [
              0,
              "#0d0887"
             ],
             [
              0.1111111111111111,
              "#46039f"
             ],
             [
              0.2222222222222222,
              "#7201a8"
             ],
             [
              0.3333333333333333,
              "#9c179e"
             ],
             [
              0.4444444444444444,
              "#bd3786"
             ],
             [
              0.5555555555555556,
              "#d8576b"
             ],
             [
              0.6666666666666666,
              "#ed7953"
             ],
             [
              0.7777777777777778,
              "#fb9f3a"
             ],
             [
              0.8888888888888888,
              "#fdca26"
             ],
             [
              1,
              "#f0f921"
             ]
            ],
            "type": "heatmap"
           }
          ],
          "heatmapgl": [
           {
            "colorbar": {
             "outlinewidth": 0,
             "ticks": ""
            },
            "colorscale": [
             [
              0,
              "#0d0887"
             ],
             [
              0.1111111111111111,
              "#46039f"
             ],
             [
              0.2222222222222222,
              "#7201a8"
             ],
             [
              0.3333333333333333,
              "#9c179e"
             ],
             [
              0.4444444444444444,
              "#bd3786"
             ],
             [
              0.5555555555555556,
              "#d8576b"
             ],
             [
              0.6666666666666666,
              "#ed7953"
             ],
             [
              0.7777777777777778,
              "#fb9f3a"
             ],
             [
              0.8888888888888888,
              "#fdca26"
             ],
             [
              1,
              "#f0f921"
             ]
            ],
            "type": "heatmapgl"
           }
          ],
          "histogram": [
           {
            "marker": {
             "pattern": {
              "fillmode": "overlay",
              "size": 10,
              "solidity": 0.2
             }
            },
            "type": "histogram"
           }
          ],
          "histogram2d": [
           {
            "colorbar": {
             "outlinewidth": 0,
             "ticks": ""
            },
            "colorscale": [
             [
              0,
              "#0d0887"
             ],
             [
              0.1111111111111111,
              "#46039f"
             ],
             [
              0.2222222222222222,
              "#7201a8"
             ],
             [
              0.3333333333333333,
              "#9c179e"
             ],
             [
              0.4444444444444444,
              "#bd3786"
             ],
             [
              0.5555555555555556,
              "#d8576b"
             ],
             [
              0.6666666666666666,
              "#ed7953"
             ],
             [
              0.7777777777777778,
              "#fb9f3a"
             ],
             [
              0.8888888888888888,
              "#fdca26"
             ],
             [
              1,
              "#f0f921"
             ]
            ],
            "type": "histogram2d"
           }
          ],
          "histogram2dcontour": [
           {
            "colorbar": {
             "outlinewidth": 0,
             "ticks": ""
            },
            "colorscale": [
             [
              0,
              "#0d0887"
             ],
             [
              0.1111111111111111,
              "#46039f"
             ],
             [
              0.2222222222222222,
              "#7201a8"
             ],
             [
              0.3333333333333333,
              "#9c179e"
             ],
             [
              0.4444444444444444,
              "#bd3786"
             ],
             [
              0.5555555555555556,
              "#d8576b"
             ],
             [
              0.6666666666666666,
              "#ed7953"
             ],
             [
              0.7777777777777778,
              "#fb9f3a"
             ],
             [
              0.8888888888888888,
              "#fdca26"
             ],
             [
              1,
              "#f0f921"
             ]
            ],
            "type": "histogram2dcontour"
           }
          ],
          "mesh3d": [
           {
            "colorbar": {
             "outlinewidth": 0,
             "ticks": ""
            },
            "type": "mesh3d"
           }
          ],
          "parcoords": [
           {
            "line": {
             "colorbar": {
              "outlinewidth": 0,
              "ticks": ""
             }
            },
            "type": "parcoords"
           }
          ],
          "pie": [
           {
            "automargin": true,
            "type": "pie"
           }
          ],
          "scatter": [
           {
            "fillpattern": {
             "fillmode": "overlay",
             "size": 10,
             "solidity": 0.2
            },
            "type": "scatter"
           }
          ],
          "scatter3d": [
           {
            "line": {
             "colorbar": {
              "outlinewidth": 0,
              "ticks": ""
             }
            },
            "marker": {
             "colorbar": {
              "outlinewidth": 0,
              "ticks": ""
             }
            },
            "type": "scatter3d"
           }
          ],
          "scattercarpet": [
           {
            "marker": {
             "colorbar": {
              "outlinewidth": 0,
              "ticks": ""
             }
            },
            "type": "scattercarpet"
           }
          ],
          "scattergeo": [
           {
            "marker": {
             "colorbar": {
              "outlinewidth": 0,
              "ticks": ""
             }
            },
            "type": "scattergeo"
           }
          ],
          "scattergl": [
           {
            "marker": {
             "colorbar": {
              "outlinewidth": 0,
              "ticks": ""
             }
            },
            "type": "scattergl"
           }
          ],
          "scattermapbox": [
           {
            "marker": {
             "colorbar": {
              "outlinewidth": 0,
              "ticks": ""
             }
            },
            "type": "scattermapbox"
           }
          ],
          "scatterpolar": [
           {
            "marker": {
             "colorbar": {
              "outlinewidth": 0,
              "ticks": ""
             }
            },
            "type": "scatterpolar"
           }
          ],
          "scatterpolargl": [
           {
            "marker": {
             "colorbar": {
              "outlinewidth": 0,
              "ticks": ""
             }
            },
            "type": "scatterpolargl"
           }
          ],
          "scatterternary": [
           {
            "marker": {
             "colorbar": {
              "outlinewidth": 0,
              "ticks": ""
             }
            },
            "type": "scatterternary"
           }
          ],
          "surface": [
           {
            "colorbar": {
             "outlinewidth": 0,
             "ticks": ""
            },
            "colorscale": [
             [
              0,
              "#0d0887"
             ],
             [
              0.1111111111111111,
              "#46039f"
             ],
             [
              0.2222222222222222,
              "#7201a8"
             ],
             [
              0.3333333333333333,
              "#9c179e"
             ],
             [
              0.4444444444444444,
              "#bd3786"
             ],
             [
              0.5555555555555556,
              "#d8576b"
             ],
             [
              0.6666666666666666,
              "#ed7953"
             ],
             [
              0.7777777777777778,
              "#fb9f3a"
             ],
             [
              0.8888888888888888,
              "#fdca26"
             ],
             [
              1,
              "#f0f921"
             ]
            ],
            "type": "surface"
           }
          ],
          "table": [
           {
            "cells": {
             "fill": {
              "color": "#EBF0F8"
             },
             "line": {
              "color": "white"
             }
            },
            "header": {
             "fill": {
              "color": "#C8D4E3"
             },
             "line": {
              "color": "white"
             }
            },
            "type": "table"
           }
          ]
         },
         "layout": {
          "annotationdefaults": {
           "arrowcolor": "#2a3f5f",
           "arrowhead": 0,
           "arrowwidth": 1
          },
          "autotypenumbers": "strict",
          "coloraxis": {
           "colorbar": {
            "outlinewidth": 0,
            "ticks": ""
           }
          },
          "colorscale": {
           "diverging": [
            [
             0,
             "#8e0152"
            ],
            [
             0.1,
             "#c51b7d"
            ],
            [
             0.2,
             "#de77ae"
            ],
            [
             0.3,
             "#f1b6da"
            ],
            [
             0.4,
             "#fde0ef"
            ],
            [
             0.5,
             "#f7f7f7"
            ],
            [
             0.6,
             "#e6f5d0"
            ],
            [
             0.7,
             "#b8e186"
            ],
            [
             0.8,
             "#7fbc41"
            ],
            [
             0.9,
             "#4d9221"
            ],
            [
             1,
             "#276419"
            ]
           ],
           "sequential": [
            [
             0,
             "#0d0887"
            ],
            [
             0.1111111111111111,
             "#46039f"
            ],
            [
             0.2222222222222222,
             "#7201a8"
            ],
            [
             0.3333333333333333,
             "#9c179e"
            ],
            [
             0.4444444444444444,
             "#bd3786"
            ],
            [
             0.5555555555555556,
             "#d8576b"
            ],
            [
             0.6666666666666666,
             "#ed7953"
            ],
            [
             0.7777777777777778,
             "#fb9f3a"
            ],
            [
             0.8888888888888888,
             "#fdca26"
            ],
            [
             1,
             "#f0f921"
            ]
           ],
           "sequentialminus": [
            [
             0,
             "#0d0887"
            ],
            [
             0.1111111111111111,
             "#46039f"
            ],
            [
             0.2222222222222222,
             "#7201a8"
            ],
            [
             0.3333333333333333,
             "#9c179e"
            ],
            [
             0.4444444444444444,
             "#bd3786"
            ],
            [
             0.5555555555555556,
             "#d8576b"
            ],
            [
             0.6666666666666666,
             "#ed7953"
            ],
            [
             0.7777777777777778,
             "#fb9f3a"
            ],
            [
             0.8888888888888888,
             "#fdca26"
            ],
            [
             1,
             "#f0f921"
            ]
           ]
          },
          "colorway": [
           "#636efa",
           "#EF553B",
           "#00cc96",
           "#ab63fa",
           "#FFA15A",
           "#19d3f3",
           "#FF6692",
           "#B6E880",
           "#FF97FF",
           "#FECB52"
          ],
          "font": {
           "color": "#2a3f5f"
          },
          "geo": {
           "bgcolor": "white",
           "lakecolor": "white",
           "landcolor": "#E5ECF6",
           "showlakes": true,
           "showland": true,
           "subunitcolor": "white"
          },
          "hoverlabel": {
           "align": "left"
          },
          "hovermode": "closest",
          "mapbox": {
           "style": "light"
          },
          "paper_bgcolor": "white",
          "plot_bgcolor": "#E5ECF6",
          "polar": {
           "angularaxis": {
            "gridcolor": "white",
            "linecolor": "white",
            "ticks": ""
           },
           "bgcolor": "#E5ECF6",
           "radialaxis": {
            "gridcolor": "white",
            "linecolor": "white",
            "ticks": ""
           }
          },
          "scene": {
           "xaxis": {
            "backgroundcolor": "#E5ECF6",
            "gridcolor": "white",
            "gridwidth": 2,
            "linecolor": "white",
            "showbackground": true,
            "ticks": "",
            "zerolinecolor": "white"
           },
           "yaxis": {
            "backgroundcolor": "#E5ECF6",
            "gridcolor": "white",
            "gridwidth": 2,
            "linecolor": "white",
            "showbackground": true,
            "ticks": "",
            "zerolinecolor": "white"
           },
           "zaxis": {
            "backgroundcolor": "#E5ECF6",
            "gridcolor": "white",
            "gridwidth": 2,
            "linecolor": "white",
            "showbackground": true,
            "ticks": "",
            "zerolinecolor": "white"
           }
          },
          "shapedefaults": {
           "line": {
            "color": "#2a3f5f"
           }
          },
          "ternary": {
           "aaxis": {
            "gridcolor": "white",
            "linecolor": "white",
            "ticks": ""
           },
           "baxis": {
            "gridcolor": "white",
            "linecolor": "white",
            "ticks": ""
           },
           "bgcolor": "#E5ECF6",
           "caxis": {
            "gridcolor": "white",
            "linecolor": "white",
            "ticks": ""
           }
          },
          "title": {
           "x": 0.05
          },
          "xaxis": {
           "automargin": true,
           "gridcolor": "white",
           "linecolor": "white",
           "ticks": "",
           "title": {
            "standoff": 15
           },
           "zerolinecolor": "white",
           "zerolinewidth": 2
          },
          "yaxis": {
           "automargin": true,
           "gridcolor": "white",
           "linecolor": "white",
           "ticks": "",
           "title": {
            "standoff": 15
           },
           "zerolinecolor": "white",
           "zerolinewidth": 2
          }
         }
        },
        "title": {
         "text": "Purchases in EIRE"
        },
        "updatemenus": [
         {
          "buttons": [
           {
            "args": [
             {
              "labels": [
               [
                "Weekend Purchases",
                "Weekday Purchases"
               ]
              ],
              "values": [
               [
                464,
                7021
               ]
              ]
             }
            ],
            "label": "EIRE",
            "method": "restyle"
           },
           {
            "args": [
             {
              "labels": [
               [
                "Weekend Purchases",
                "Weekday Purchases"
               ]
              ],
              "values": [
               [
                649,
                7842
               ]
              ]
             }
            ],
            "label": "France",
            "method": "restyle"
           },
           {
            "args": [
             {
              "labels": [
               [
                "Weekend Purchases",
                "Weekday Purchases"
               ]
              ],
              "values": [
               [
                797,
                8698
               ]
              ]
             }
            ],
            "label": "Germany",
            "method": "restyle"
           },
           {
            "args": [
             {
              "labels": [
               [
                "Weekend Purchases",
                "Weekday Purchases"
               ]
              ],
              "values": [
               [
                60103,
                301775
               ]
              ]
             }
            ],
            "label": "United Kingdom",
            "method": "restyle"
           }
          ],
          "direction": "down",
          "pad": {
           "r": 10,
           "t": 10
          },
          "showactive": true,
          "x": 0.1,
          "xanchor": "left",
          "y": 1.15,
          "yanchor": "top"
         }
        ]
       }
      }
     },
     "metadata": {},
     "output_type": "display_data"
    }
   ],
   "source": [
    "countries = country_weekend_analysis['Country'].tolist()\n",
    "\n",
    "initial_country = countries[0]\n",
    "fig = go.Figure()\n",
    "\n",
    "# Function to create pie chart\n",
    "def create_pie_chart(country):\n",
    "    country_data = country_weekend_analysis[country_weekend_analysis['Country'] == country].iloc[0]  # Adjusted to filter by country\n",
    "    labels = ['Weekend Purchases', 'Weekday Purchases']\n",
    "    values = [\n",
    "        country_data['Is_weekend'],\n",
    "        country_data['Weekday_Purchases']\n",
    "    ]\n",
    "    return go.Pie(labels=labels, values=values, name=\"\")\n",
    "\n",
    "# Add trace for the initial country\n",
    "fig.add_trace(create_pie_chart(initial_country))\n",
    "\n",
    "# Update layout to add dropdown\n",
    "fig.update_layout(\n",
    "    title=f\"Purchases in {initial_country}\",\n",
    "    updatemenus=[\n",
    "        dict(\n",
    "            buttons=[\n",
    "                dict(label=country,\n",
    "                     method='restyle',\n",
    "                     args=[{\n",
    "                         'values': [\n",
    "                             [\n",
    "                                country_weekend_analysis[country_weekend_analysis['Country'] == country].iloc[0]['Is_weekend'],\n",
    "                                country_weekend_analysis[country_weekend_analysis['Country'] == country].iloc[0]['Weekday_Purchases']\n",
    "                             ]\n",
    "                         ],\n",
    "                         'labels': [['Weekend Purchases', 'Weekday Purchases']]\n",
    "                     }])\n",
    "                for country in countries\n",
    "            ],\n",
    "            direction=\"down\",\n",
    "            pad={\"r\": 10, \"t\": 10},\n",
    "            showactive=True,\n",
    "            x=0.1,\n",
    "            xanchor=\"left\",\n",
    "            y=1.15,\n",
    "            yanchor=\"top\"\n",
    "        ),\n",
    "    ]\n",
    ")\n",
    "\n",
    "fig.show()"
   ]
  },
  {
   "cell_type": "markdown",
   "metadata": {},
   "source": [
    "____"
   ]
  },
  {
   "cell_type": "markdown",
   "metadata": {},
   "source": [
    "### Customer Spending"
   ]
  },
  {
   "cell_type": "code",
   "execution_count": 19,
   "metadata": {},
   "outputs": [
    {
     "name": "stderr",
     "output_type": "stream",
     "text": [
      "/var/folders/x_/08j42z3j22377xv4cbjvxw880000gn/T/ipykernel_33740/401126240.py:18: UserWarning:\n",
      "\n",
      "set_ticklabels() should only be used with a fixed number of ticks, i.e. after set_ticks() or using a FixedLocator.\n",
      "\n"
     ]
    },
    {
     "data": {
      "image/png": "[encoded data removed]",
      "text/plain": [
       "<Figure size 1400x800 with 2 Axes>"
      ]
     },
     "metadata": {},
     "output_type": "display_data"
    }
   ],
   "source": [
    "# Group by 'CustomerID' and calculate total purchases and total spend\n",
    "customer_summary = df_cleaned.groupby('CustomerID').agg(\n",
    "    Total_Purchases=pd.NamedAgg(column='InvoiceNo', aggfunc='size'),\n",
    "    Total_Spend=pd.NamedAgg(column='TotalSpend', aggfunc='sum')\n",
    ").reset_index()\n",
    "\n",
    "top_customers = customer_summary.sort_values(by='Total_Purchases', ascending=False).head(20)\n",
    "\n",
    "# Plotting\n",
    "fig, ax1 = plt.subplots(figsize=(14, 8))\n",
    "\n",
    "# Bar chart for Total Purchases\n",
    "color = 'tab:blue'\n",
    "ax1.set_xlabel('Customer ID')\n",
    "ax1.set_ylabel('Total Purchases', color=color)\n",
    "ax1.bar(top_customers['CustomerID'].astype(str), top_customers['Total_Purchases'], color=color)\n",
    "ax1.tick_params(axis='y', labelcolor=color)\n",
    "ax1.set_xticklabels(top_customers['CustomerID'].astype(str), rotation=45)\n",
    "\n",
    "# Create a twin axis for the total spend\n",
    "ax2 = ax1.twinx()  \n",
    "color = 'tab:red'\n",
    "ax2.set_ylabel('Total Spend (£)', color=color)\n",
    "ax2.plot(top_customers['CustomerID'].astype(str), top_customers['Total_Spend'], color=color, marker='o')\n",
    "ax2.tick_params(axis='y', labelcolor=color)\n",
    "\n",
    "# Show the plot\n",
    "plt.title('Top 20 Customers by Total Purchases and Total Spend')\n",
    "plt.show()"
   ]
  },
  {
   "cell_type": "code",
   "execution_count": 20,
   "metadata": {},
   "outputs": [
    {
     "name": "stderr",
     "output_type": "stream",
     "text": [
      "/var/folders/x_/08j42z3j22377xv4cbjvxw880000gn/T/ipykernel_33740/85810742.py:12: UserWarning:\n",
      "\n",
      "set_ticklabels() should only be used with a fixed number of ticks, i.e. after set_ticks() or using a FixedLocator.\n",
      "\n"
     ]
    },
    {
     "data": {
      "image/png": "[encoded data removed]",
      "text/plain": [
       "<Figure size 1400x800 with 2 Axes>"
      ]
     },
     "metadata": {},
     "output_type": "display_data"
    }
   ],
   "source": [
    "top_spenders = customer_summary.sort_values(by='Total_Spend', ascending=False).head(20)\n",
    "\n",
    "# Plotting\n",
    "fig, ax1 = plt.subplots(figsize=(14, 8))\n",
    "\n",
    "# Bar chart for Total Spend\n",
    "color = 'tab:red'\n",
    "ax1.set_xlabel('Customer ID')\n",
    "ax1.set_ylabel('Total Spend (£)', color=color)\n",
    "ax1.bar(top_spenders['CustomerID'].astype(str), top_spenders['Total_Spend'], color=color)\n",
    "ax1.tick_params(axis='y', labelcolor=color)\n",
    "ax1.set_xticklabels(top_spenders['CustomerID'].astype(str), rotation=45)\n",
    "\n",
    "# Create a twin axis for the number of purchases\n",
    "ax2 = ax1.twinx()  \n",
    "color = 'tab:blue'\n",
    "ax2.set_ylabel('Total Purchases', color=color)\n",
    "ax2.plot(top_spenders['CustomerID'].astype(str), top_spenders['Total_Purchases'], color=color, marker='o')\n",
    "ax2.tick_params(axis='y', labelcolor=color)\n",
    "\n",
    "# Show the plot\n",
    "plt.title('Top 20 Customers by Total Spend and Their Number of Purchases')\n",
    "plt.show()"
   ]
  },
  {
   "cell_type": "markdown",
   "metadata": {},
   "source": [
    "Customer Behavior Diversity: There is significant variability in how customers interact with the business. Some make many small purchases, while others make fewer, much larger purchases.\n",
    "\n",
    "Targeted Marketing Potential: Understanding these patterns can help tailor marketing and sales strategies. For example, customers with high total spends but fewer purchases might be targeted with promotions on high-value products.\n",
    "\n",
    "Customer Value Insight: These visualizations highlight which customers are most valuable in terms of revenue generation, which can influence loyalty programs and retention strategies."
   ]
  },
  {
   "cell_type": "markdown",
   "metadata": {},
   "source": [
    "___"
   ]
  },
  {
   "cell_type": "markdown",
   "metadata": {},
   "source": [
    "### Daily Sales in each countries"
   ]
  },
  {
   "cell_type": "code",
   "execution_count": 21,
   "metadata": {},
   "outputs": [],
   "source": [
    "daily_sales = df_cleaned.groupby([df_cleaned['Country'], df_cleaned['InvoiceDate'].dt.date]).agg(DailySales=('TotalSpend', 'sum')).reset_index()"
   ]
  },
  {
   "cell_type": "code",
   "execution_count": 22,
   "metadata": {},
   "outputs": [
    {
     "data": {
      "application/vnd.jupyter.widget-view+json": {
       "model_id": "a32519240d954c8b815bcf1bdefa393a",
       "version_major": 2,
       "version_minor": 0
      },
      "text/plain": [
       "Dropdown(description='Country:', index=4, options=('All', 'EIRE', 'France', 'Germany', 'United Kingdom'), valu…"
      ]
     },
     "metadata": {},
     "output_type": "display_data"
    },
    {
     "data": {
      "image/png": "[encoded data removed]",
      "text/plain": [
       "<Figure size 1400x700 with 1 Axes>"
      ]
     },
     "metadata": {},
     "output_type": "display_data"
    }
   ],
   "source": [
    "# Create a dropdown for country selection\n",
    "country_dropdown = widgets.Dropdown(\n",
    "    options = ['All'] + list(daily_sales['Country'].unique()),\n",
    "    value='All',\n",
    "    description='Country:',\n",
    "    disabled=False,\n",
    ")\n",
    "\n",
    "def plot_filtered_sales(change):\n",
    "    # Clear current output\n",
    "    clear_output(wait=True)\n",
    "    display(country_dropdown)  \n",
    "    \n",
    "    # Filter the data based on the dropdown\n",
    "    if change.new == 'All':\n",
    "        filtered_data = daily_sales\n",
    "    else:\n",
    "        filtered_data = daily_sales[daily_sales['Country'] == change.new]\n",
    "    \n",
    "    # Plotting\n",
    "    plt.figure(figsize=(14, 7))\n",
    "    for country in filtered_data['Country'].unique():\n",
    "        country_data = filtered_data[filtered_data['Country'] == country]\n",
    "        plt.plot(country_data['InvoiceDate'], country_data['DailySales'], marker='o', label=country)\n",
    "    \n",
    "    plt.title('Daily Sales Trends by Country')\n",
    "    plt.xlabel('Date')\n",
    "    plt.ylabel('Sales (£)')\n",
    "    plt.xticks(rotation=45)\n",
    "    plt.legend(title='Country')\n",
    "    plt.grid(True)\n",
    "    plt.show()\n",
    "\n",
    "# Display the dropdown\n",
    "display(country_dropdown)\n",
    "\n",
    "# Call the plotting function when the dropdown value changes\n",
    "country_dropdown.observe(plot_filtered_sales, names='value')\n",
    "\n"
   ]
  },
  {
   "cell_type": "markdown",
   "metadata": {},
   "source": [
    "Volatility and Peaks: The sales data shows significant variability, with occasional peaks that suggest large transactions or high sales volume days. Identifying what causes these spikes—whether seasonal trends, marketing campaigns, or specific events—could provide valuable insights for planning and optimization.\n",
    "\n",
    "Seasonal Patterns: While the chart covers a full year, a closer examination could reveal if there are certain times of the year (like holidays or specific months) where sales consistently peak. This could help in forecasting demand and managing inventory more effectively.\n",
    "\n",
    "Data Distribution: The distribution of sales is skewed, with many days showing relatively lower sales and a few days with exceptionally high sales. This skewness might indicate that most days have moderate sales activity, but a small number of days (perhaps due to promotions or special events) drive a large volume of sales."
   ]
  },
  {
   "cell_type": "markdown",
   "metadata": {},
   "source": [
    "___"
   ]
  },
  {
   "cell_type": "markdown",
   "metadata": {},
   "source": [
    "### Explore the products"
   ]
  },
  {
   "cell_type": "code",
   "execution_count": 33,
   "metadata": {},
   "outputs": [
    {
     "name": "stdout",
     "output_type": "stream",
     "text": [
      "We have 3888 unique products\n"
     ]
    }
   ],
   "source": [
    "print('We have', df_cleaned['Description'].nunique(), 'unique products')"
   ]
  },
  {
   "cell_type": "code",
   "execution_count": 130,
   "metadata": {},
   "outputs": [
    {
     "data": {
      "image/png": "[encoded data removed]",
      "text/plain": [
       "<Figure size 1800x900 with 1 Axes>"
      ]
     },
     "metadata": {},
     "output_type": "display_data"
    }
   ],
   "source": [
    "most_selling_products = df_cleaned['Description'].value_counts()[:20]\n",
    "plt.figure(figsize = (18,9))\n",
    "sns.set_context(\"talk\")\n",
    "sns.barplot(x = most_selling_products.values, y = most_selling_products.index)\n",
    "plt.xlabel(\"Sold number\")\n",
    "plt.ylabel(\"Products\")\n",
    "plt.title(\"Most Selling 20 Products\")\n",
    "\n",
    "plt.show()"
   ]
  },
  {
   "cell_type": "markdown",
   "metadata": {},
   "source": [
    "______\n"
   ]
  },
  {
   "cell_type": "markdown",
   "metadata": {},
   "source": [
    "### Generate category with AI"
   ]
  },
  {
   "cell_type": "markdown",
   "metadata": {},
   "source": [
    "##### Use chatgpt"
   ]
  },
  {
   "cell_type": "code",
   "execution_count": 86,
   "metadata": {},
   "outputs": [],
   "source": [
    "from openai import OpenAI\n",
    "import time"
   ]
  },
  {
   "cell_type": "code",
   "execution_count": 109,
   "metadata": {},
   "outputs": [],
   "source": [
    "test = df_cleaned.sample(30)"
   ]
  },
  {
   "cell_type": "code",
   "execution_count": null,
   "metadata": {},
   "outputs": [],
   "source": [
    "client = OpenAI(\n",
    "    api_key=os.environ.get(\"Key\"),\n",
    ")\n",
    "\n",
    "def generate_product_category(description):\n",
    "    try:\n",
    "        # Define the system and user messages for ChatGPT\n",
    "        messages = [\n",
    "            {\"role\": \"system\", \"content\": \"You are a helpful assistant that generates concise and suitable category name. The name should not be narrow.\"},\n",
    "            {\"role\": \"user\", \"content\": f\"Create a concise product category for the following product description:\\n\\n'{description}'\"}\n",
    "        ]\n",
    "\n",
    "        # Call the OpenAI API using the ChatCompletion endpoint\n",
    "        response = client.chat.completions.create(\n",
    "            model=\"gpt-3.5-turbo-4\",  \n",
    "            messages=messages,\n",
    "            temperature=0.7,  \n",
    "            max_tokens=8 \n",
    "        )\n",
    "        \n",
    "        # Extract the generated product name from the response\n",
    "        product_category = response['choices'][0]['message']['content'].strip()\n",
    "        return product_category\n",
    "\n",
    "    except Exception as e:\n",
    "        print(f\"An error occurred: {e}\")\n",
    "        return None\n",
    "\n",
    "test['Product_category'] = test['Description'].apply(generate_product_category)\n",
    "\n",
    "print(test)"
   ]
  },
  {
   "cell_type": "markdown",
   "metadata": {},
   "source": [
    "I didn't generate with OpenAI because it requires to pay. So I will try Greq to with llama3."
   ]
  },
  {
   "cell_type": "code",
   "execution_count": 89,
   "metadata": {},
   "outputs": [],
   "source": [
    "import os\n",
    "from groq import Groq"
   ]
  },
  {
   "cell_type": "code",
   "execution_count": 126,
   "metadata": {},
   "outputs": [],
   "source": [
    "test = df_cleaned.sample(20)"
   ]
  },
  {
   "cell_type": "code",
   "execution_count": 127,
   "metadata": {},
   "outputs": [],
   "source": [
    "GROQ_API_KEY = \"KEY\"\n",
    "os.environ[\"GROQ_API_KEY\"] = GROQ_API_KEY\n",
    "\n",
    "# Initialize the Groq client\n",
    "client = Groq(api_key=os.environ.get(\"GROQ_API_KEY\"))\n",
    "\n",
    "class Agent:\n",
    "    def __init__(self, role, goal, backstory):\n",
    "        self.role = role\n",
    "        self.goal = goal\n",
    "        self.backstory = backstory\n",
    "        self.client = client\n",
    "\n",
    "    def call_groq(self, prompt):\n",
    "        chat_completion = self.client.chat.completions.create(\n",
    "            messages=[\n",
    "                {\n",
    "                    \"role\": \"user\",\n",
    "                    \"content\": prompt,\n",
    "                }\n",
    "            ],\n",
    "            model=\"llama3-8b-8192\",\n",
    "        )\n",
    "        return chat_completion.choices[0].message.content.strip()\n",
    "\n",
    "    def on_message(self, message, context):\n",
    "        prompt = f\"{context}\\n\\n{message}\"\n",
    "        return self.call_groq(prompt)\n",
    "    \n",
    "class MarketingAssistant(Agent):\n",
    "    def __init__(self):\n",
    "        super().__init__(\n",
    "            role=\"Marketing assistant\",\n",
    "            goal=\"Assist users to generates concise and suitable category names based on the description. The name should not be narrow.\",\n",
    "            backstory=\"You have 10 years of experience generating category names for companies.\"\n",
    "        )\n",
    "    \n",
    "    def generate_category(self, description):\n",
    "        prompt = f\"Based on this product description, '{description}', generate a concise and appropriate category name. Only return the category name. For example, KNITTED UNION FLAG HOT WATER BOTTLE return Home & Living Essentials. All types of toys, playhouse or anything relate to toys return Toys.\"\n",
    "        return self.call_groq(prompt)\n",
    "\n",
    "if __name__ == \"__main__\":\n",
    "    # Initialize the assistant\n",
    "    assistant = MarketingAssistant()\n",
    "\n",
    "    # Generate product categories for each description and store them in the DataFrame\n",
    "    test['Product_category'] = test['Description'].apply(assistant.generate_category)\n",
    "\n",
    "    \n"
   ]
  },
  {
   "cell_type": "code",
   "execution_count": 128,
   "metadata": {},
   "outputs": [
    {
     "data": {
      "text/html": [
       "<div>\n",
       "<style scoped>\n",
       "    .dataframe tbody tr th:only-of-type {\n",
       "        vertical-align: middle;\n",
       "    }\n",
       "\n",
       "    .dataframe tbody tr th {\n",
       "        vertical-align: top;\n",
       "    }\n",
       "\n",
       "    .dataframe thead th {\n",
       "        text-align: right;\n",
       "    }\n",
       "</style>\n",
       "<table border=\"1\" class=\"dataframe\">\n",
       "  <thead>\n",
       "    <tr style=\"text-align: right;\">\n",
       "      <th></th>\n",
       "      <th>InvoiceNo</th>\n",
       "      <th>StockCode</th>\n",
       "      <th>Description</th>\n",
       "      <th>Quantity</th>\n",
       "      <th>InvoiceDate</th>\n",
       "      <th>UnitPrice</th>\n",
       "      <th>CustomerID</th>\n",
       "      <th>Country</th>\n",
       "      <th>TotalSpend</th>\n",
       "      <th>Year</th>\n",
       "      <th>Month</th>\n",
       "      <th>Day_of_Week</th>\n",
       "      <th>Is_weekend</th>\n",
       "      <th>Time</th>\n",
       "      <th>Period</th>\n",
       "      <th>Product_category</th>\n",
       "    </tr>\n",
       "  </thead>\n",
       "  <tbody>\n",
       "    <tr>\n",
       "      <th>167039</th>\n",
       "      <td>550968</td>\n",
       "      <td>22993</td>\n",
       "      <td>SET OF 4 PANTRY JELLY MOULDS</td>\n",
       "      <td>12</td>\n",
       "      <td>2011-04-21 16:59:00</td>\n",
       "      <td>1.25</td>\n",
       "      <td>14961.0</td>\n",
       "      <td>United Kingdom</td>\n",
       "      <td>15.00</td>\n",
       "      <td>2011</td>\n",
       "      <td>4</td>\n",
       "      <td>Thursday</td>\n",
       "      <td>0</td>\n",
       "      <td>16:59:00</td>\n",
       "      <td>PM</td>\n",
       "      <td>Home &amp; Kitchen</td>\n",
       "    </tr>\n",
       "    <tr>\n",
       "      <th>49295</th>\n",
       "      <td>540511</td>\n",
       "      <td>84879</td>\n",
       "      <td>ASSORTED COLOUR BIRD ORNAMENT</td>\n",
       "      <td>8</td>\n",
       "      <td>2011-01-09 11:34:00</td>\n",
       "      <td>1.69</td>\n",
       "      <td>14472.0</td>\n",
       "      <td>United Kingdom</td>\n",
       "      <td>13.52</td>\n",
       "      <td>2011</td>\n",
       "      <td>1</td>\n",
       "      <td>Sunday</td>\n",
       "      <td>1</td>\n",
       "      <td>11:34:00</td>\n",
       "      <td>AM</td>\n",
       "      <td>Home Decor</td>\n",
       "    </tr>\n",
       "    <tr>\n",
       "      <th>485830</th>\n",
       "      <td>577690</td>\n",
       "      <td>23369</td>\n",
       "      <td>SET 36 COLOUR PENCILS LOVE LONDON</td>\n",
       "      <td>2</td>\n",
       "      <td>2011-11-21 11:34:00</td>\n",
       "      <td>1.25</td>\n",
       "      <td>12856.0</td>\n",
       "      <td>United Kingdom</td>\n",
       "      <td>2.50</td>\n",
       "      <td>2011</td>\n",
       "      <td>11</td>\n",
       "      <td>Monday</td>\n",
       "      <td>0</td>\n",
       "      <td>11:34:00</td>\n",
       "      <td>AM</td>\n",
       "      <td>Arts &amp; Crafts</td>\n",
       "    </tr>\n",
       "    <tr>\n",
       "      <th>452052</th>\n",
       "      <td>575318</td>\n",
       "      <td>23349</td>\n",
       "      <td>ROLL WRAP VINTAGE CHRISTMAS</td>\n",
       "      <td>12</td>\n",
       "      <td>2011-11-09 13:17:00</td>\n",
       "      <td>1.25</td>\n",
       "      <td>14921.0</td>\n",
       "      <td>United Kingdom</td>\n",
       "      <td>15.00</td>\n",
       "      <td>2011</td>\n",
       "      <td>11</td>\n",
       "      <td>Wednesday</td>\n",
       "      <td>0</td>\n",
       "      <td>13:17:00</td>\n",
       "      <td>PM</td>\n",
       "      <td>Home &amp; Living Decor</td>\n",
       "    </tr>\n",
       "    <tr>\n",
       "      <th>228013</th>\n",
       "      <td>556914</td>\n",
       "      <td>15044D</td>\n",
       "      <td>RED PAPER PARASOL</td>\n",
       "      <td>9</td>\n",
       "      <td>2011-06-15 13:34:00</td>\n",
       "      <td>2.95</td>\n",
       "      <td>12877.0</td>\n",
       "      <td>United Kingdom</td>\n",
       "      <td>26.55</td>\n",
       "      <td>2011</td>\n",
       "      <td>6</td>\n",
       "      <td>Wednesday</td>\n",
       "      <td>0</td>\n",
       "      <td>13:34:00</td>\n",
       "      <td>PM</td>\n",
       "      <td>Branded Accessories</td>\n",
       "    </tr>\n",
       "    <tr>\n",
       "      <th>179912</th>\n",
       "      <td>552291</td>\n",
       "      <td>22433</td>\n",
       "      <td>WATERING CAN GREEN DINOSAUR</td>\n",
       "      <td>6</td>\n",
       "      <td>2011-05-08 14:00:00</td>\n",
       "      <td>1.95</td>\n",
       "      <td>15421.0</td>\n",
       "      <td>United Kingdom</td>\n",
       "      <td>11.70</td>\n",
       "      <td>2011</td>\n",
       "      <td>5</td>\n",
       "      <td>Sunday</td>\n",
       "      <td>1</td>\n",
       "      <td>14:00:00</td>\n",
       "      <td>PM</td>\n",
       "      <td>Toys</td>\n",
       "    </tr>\n",
       "    <tr>\n",
       "      <th>221660</th>\n",
       "      <td>556263</td>\n",
       "      <td>23205</td>\n",
       "      <td>CHARLOTTE BAG VINTAGE ALPHABET</td>\n",
       "      <td>6</td>\n",
       "      <td>2011-06-09 18:41:00</td>\n",
       "      <td>0.85</td>\n",
       "      <td>13969.0</td>\n",
       "      <td>United Kingdom</td>\n",
       "      <td>5.10</td>\n",
       "      <td>2011</td>\n",
       "      <td>6</td>\n",
       "      <td>Thursday</td>\n",
       "      <td>0</td>\n",
       "      <td>18:41:00</td>\n",
       "      <td>PM</td>\n",
       "      <td>Home &amp; Living Accessories</td>\n",
       "    </tr>\n",
       "    <tr>\n",
       "      <th>108933</th>\n",
       "      <td>545571</td>\n",
       "      <td>85152</td>\n",
       "      <td>HAND OVER THE CHOCOLATE   SIGN</td>\n",
       "      <td>12</td>\n",
       "      <td>2011-03-03 16:34:00</td>\n",
       "      <td>2.10</td>\n",
       "      <td>17700.0</td>\n",
       "      <td>United Kingdom</td>\n",
       "      <td>25.20</td>\n",
       "      <td>2011</td>\n",
       "      <td>3</td>\n",
       "      <td>Thursday</td>\n",
       "      <td>0</td>\n",
       "      <td>16:34:00</td>\n",
       "      <td>PM</td>\n",
       "      <td>Toys</td>\n",
       "    </tr>\n",
       "    <tr>\n",
       "      <th>265179</th>\n",
       "      <td>560209</td>\n",
       "      <td>22948</td>\n",
       "      <td>METAL DECORATION NAUGHTY CHILDREN</td>\n",
       "      <td>2</td>\n",
       "      <td>2011-07-15 14:05:00</td>\n",
       "      <td>0.85</td>\n",
       "      <td>15004.0</td>\n",
       "      <td>United Kingdom</td>\n",
       "      <td>1.70</td>\n",
       "      <td>2011</td>\n",
       "      <td>7</td>\n",
       "      <td>Friday</td>\n",
       "      <td>0</td>\n",
       "      <td>14:05:00</td>\n",
       "      <td>PM</td>\n",
       "      <td>Toys &amp; Novelties</td>\n",
       "    </tr>\n",
       "    <tr>\n",
       "      <th>389601</th>\n",
       "      <td>570482</td>\n",
       "      <td>23318</td>\n",
       "      <td>BOX OF 6 MINI VINTAGE CRACKERS</td>\n",
       "      <td>2</td>\n",
       "      <td>2011-10-10 17:00:00</td>\n",
       "      <td>2.49</td>\n",
       "      <td>17459.0</td>\n",
       "      <td>United Kingdom</td>\n",
       "      <td>4.98</td>\n",
       "      <td>2011</td>\n",
       "      <td>10</td>\n",
       "      <td>Monday</td>\n",
       "      <td>0</td>\n",
       "      <td>17:00:00</td>\n",
       "      <td>PM</td>\n",
       "      <td>Food &amp; Beverages</td>\n",
       "    </tr>\n",
       "    <tr>\n",
       "      <th>452480</th>\n",
       "      <td>575338</td>\n",
       "      <td>22605</td>\n",
       "      <td>WOODEN CROQUET GARDEN SET</td>\n",
       "      <td>1</td>\n",
       "      <td>2011-11-09 14:15:00</td>\n",
       "      <td>14.95</td>\n",
       "      <td>17867.0</td>\n",
       "      <td>United Kingdom</td>\n",
       "      <td>14.95</td>\n",
       "      <td>2011</td>\n",
       "      <td>11</td>\n",
       "      <td>Wednesday</td>\n",
       "      <td>0</td>\n",
       "      <td>14:15:00</td>\n",
       "      <td>PM</td>\n",
       "      <td>Outdoor &amp; Garden</td>\n",
       "    </tr>\n",
       "    <tr>\n",
       "      <th>465026</th>\n",
       "      <td>576200</td>\n",
       "      <td>21326</td>\n",
       "      <td>AGED GLASS SILVER T-LIGHT HOLDER</td>\n",
       "      <td>8</td>\n",
       "      <td>2011-11-14 12:14:00</td>\n",
       "      <td>0.65</td>\n",
       "      <td>15572.0</td>\n",
       "      <td>United Kingdom</td>\n",
       "      <td>5.20</td>\n",
       "      <td>2011</td>\n",
       "      <td>11</td>\n",
       "      <td>Monday</td>\n",
       "      <td>0</td>\n",
       "      <td>12:14:00</td>\n",
       "      <td>PM</td>\n",
       "      <td>Home Decor</td>\n",
       "    </tr>\n",
       "    <tr>\n",
       "      <th>429672</th>\n",
       "      <td>573576</td>\n",
       "      <td>21890</td>\n",
       "      <td>S/6 WOODEN SKITTLES IN COTTON BAG</td>\n",
       "      <td>3</td>\n",
       "      <td>2011-10-31 14:09:00</td>\n",
       "      <td>5.79</td>\n",
       "      <td>14096.0</td>\n",
       "      <td>United Kingdom</td>\n",
       "      <td>17.37</td>\n",
       "      <td>2011</td>\n",
       "      <td>10</td>\n",
       "      <td>Monday</td>\n",
       "      <td>0</td>\n",
       "      <td>14:09:00</td>\n",
       "      <td>PM</td>\n",
       "      <td>Toys</td>\n",
       "    </tr>\n",
       "    <tr>\n",
       "      <th>292058</th>\n",
       "      <td>562539</td>\n",
       "      <td>22457</td>\n",
       "      <td>NATURAL SLATE HEART CHALKBOARD</td>\n",
       "      <td>3</td>\n",
       "      <td>2011-08-05 15:30:00</td>\n",
       "      <td>2.95</td>\n",
       "      <td>17220.0</td>\n",
       "      <td>United Kingdom</td>\n",
       "      <td>8.85</td>\n",
       "      <td>2011</td>\n",
       "      <td>8</td>\n",
       "      <td>Friday</td>\n",
       "      <td>0</td>\n",
       "      <td>15:30:00</td>\n",
       "      <td>PM</td>\n",
       "      <td>Home &amp; Décor</td>\n",
       "    </tr>\n",
       "    <tr>\n",
       "      <th>426839</th>\n",
       "      <td>573366</td>\n",
       "      <td>22086</td>\n",
       "      <td>PAPER CHAIN KIT 50'S CHRISTMAS</td>\n",
       "      <td>10</td>\n",
       "      <td>2011-10-30 13:17:00</td>\n",
       "      <td>2.95</td>\n",
       "      <td>16361.0</td>\n",
       "      <td>United Kingdom</td>\n",
       "      <td>29.50</td>\n",
       "      <td>2011</td>\n",
       "      <td>10</td>\n",
       "      <td>Sunday</td>\n",
       "      <td>1</td>\n",
       "      <td>13:17:00</td>\n",
       "      <td>PM</td>\n",
       "      <td>Toys</td>\n",
       "    </tr>\n",
       "    <tr>\n",
       "      <th>264791</th>\n",
       "      <td>560120</td>\n",
       "      <td>23320</td>\n",
       "      <td>GIANT 50'S CHRISTMAS CRACKER</td>\n",
       "      <td>12</td>\n",
       "      <td>2011-07-15 10:27:00</td>\n",
       "      <td>2.89</td>\n",
       "      <td>14907.0</td>\n",
       "      <td>United Kingdom</td>\n",
       "      <td>34.68</td>\n",
       "      <td>2011</td>\n",
       "      <td>7</td>\n",
       "      <td>Friday</td>\n",
       "      <td>0</td>\n",
       "      <td>10:27:00</td>\n",
       "      <td>AM</td>\n",
       "      <td>Toys</td>\n",
       "    </tr>\n",
       "    <tr>\n",
       "      <th>221415</th>\n",
       "      <td>556245</td>\n",
       "      <td>37449</td>\n",
       "      <td>CERAMIC CAKE STAND + HANGING CAKES</td>\n",
       "      <td>1</td>\n",
       "      <td>2011-06-09 16:10:00</td>\n",
       "      <td>9.95</td>\n",
       "      <td>17841.0</td>\n",
       "      <td>United Kingdom</td>\n",
       "      <td>9.95</td>\n",
       "      <td>2011</td>\n",
       "      <td>6</td>\n",
       "      <td>Thursday</td>\n",
       "      <td>0</td>\n",
       "      <td>16:10:00</td>\n",
       "      <td>PM</td>\n",
       "      <td>Home &amp; Kitchen Accessories</td>\n",
       "    </tr>\n",
       "    <tr>\n",
       "      <th>298656</th>\n",
       "      <td>563031</td>\n",
       "      <td>23136</td>\n",
       "      <td>IVORY WIRE SWEETHEART LETTER TRAY</td>\n",
       "      <td>1</td>\n",
       "      <td>2011-08-11 14:38:00</td>\n",
       "      <td>3.75</td>\n",
       "      <td>13263.0</td>\n",
       "      <td>United Kingdom</td>\n",
       "      <td>3.75</td>\n",
       "      <td>2011</td>\n",
       "      <td>8</td>\n",
       "      <td>Thursday</td>\n",
       "      <td>0</td>\n",
       "      <td>14:38:00</td>\n",
       "      <td>PM</td>\n",
       "      <td>Home &amp; Office Organizers</td>\n",
       "    </tr>\n",
       "    <tr>\n",
       "      <th>37274</th>\n",
       "      <td>539455</td>\n",
       "      <td>90177D</td>\n",
       "      <td>DROP DIAMANTE EARRINGS PURPLE</td>\n",
       "      <td>1</td>\n",
       "      <td>2010-12-17 17:17:00</td>\n",
       "      <td>2.95</td>\n",
       "      <td>12748.0</td>\n",
       "      <td>United Kingdom</td>\n",
       "      <td>2.95</td>\n",
       "      <td>2010</td>\n",
       "      <td>12</td>\n",
       "      <td>Friday</td>\n",
       "      <td>0</td>\n",
       "      <td>17:17:00</td>\n",
       "      <td>PM</td>\n",
       "      <td>Jewelry</td>\n",
       "    </tr>\n",
       "    <tr>\n",
       "      <th>441853</th>\n",
       "      <td>574656</td>\n",
       "      <td>21616</td>\n",
       "      <td>4 PEAR BOTANICAL DINNER CANDLES</td>\n",
       "      <td>2</td>\n",
       "      <td>2011-11-06 11:36:00</td>\n",
       "      <td>1.25</td>\n",
       "      <td>16434.0</td>\n",
       "      <td>United Kingdom</td>\n",
       "      <td>2.50</td>\n",
       "      <td>2011</td>\n",
       "      <td>11</td>\n",
       "      <td>Sunday</td>\n",
       "      <td>1</td>\n",
       "      <td>11:36:00</td>\n",
       "      <td>AM</td>\n",
       "      <td>Home &amp; Living Consumables</td>\n",
       "    </tr>\n",
       "  </tbody>\n",
       "</table>\n",
       "</div>"
      ],
      "text/plain": [
       "       InvoiceNo StockCode                         Description  Quantity  \\\n",
       "167039    550968     22993        SET OF 4 PANTRY JELLY MOULDS        12   \n",
       "49295     540511     84879       ASSORTED COLOUR BIRD ORNAMENT         8   \n",
       "485830    577690     23369   SET 36 COLOUR PENCILS LOVE LONDON         2   \n",
       "452052    575318     23349         ROLL WRAP VINTAGE CHRISTMAS        12   \n",
       "228013    556914    15044D                   RED PAPER PARASOL         9   \n",
       "179912    552291     22433         WATERING CAN GREEN DINOSAUR         6   \n",
       "221660    556263     23205     CHARLOTTE BAG VINTAGE ALPHABET          6   \n",
       "108933    545571     85152     HAND OVER THE CHOCOLATE   SIGN         12   \n",
       "265179    560209     22948  METAL DECORATION NAUGHTY CHILDREN          2   \n",
       "389601    570482     23318      BOX OF 6 MINI VINTAGE CRACKERS         2   \n",
       "452480    575338     22605           WOODEN CROQUET GARDEN SET         1   \n",
       "465026    576200     21326    AGED GLASS SILVER T-LIGHT HOLDER         8   \n",
       "429672    573576     21890   S/6 WOODEN SKITTLES IN COTTON BAG         3   \n",
       "292058    562539     22457     NATURAL SLATE HEART CHALKBOARD          3   \n",
       "426839    573366     22086     PAPER CHAIN KIT 50'S CHRISTMAS         10   \n",
       "264791    560120     23320        GIANT 50'S CHRISTMAS CRACKER        12   \n",
       "221415    556245     37449  CERAMIC CAKE STAND + HANGING CAKES         1   \n",
       "298656    563031     23136   IVORY WIRE SWEETHEART LETTER TRAY         1   \n",
       "37274     539455    90177D       DROP DIAMANTE EARRINGS PURPLE         1   \n",
       "441853    574656     21616     4 PEAR BOTANICAL DINNER CANDLES         2   \n",
       "\n",
       "               InvoiceDate  UnitPrice  CustomerID         Country  TotalSpend  \\\n",
       "167039 2011-04-21 16:59:00       1.25     14961.0  United Kingdom       15.00   \n",
       "49295  2011-01-09 11:34:00       1.69     14472.0  United Kingdom       13.52   \n",
       "485830 2011-11-21 11:34:00       1.25     12856.0  United Kingdom        2.50   \n",
       "452052 2011-11-09 13:17:00       1.25     14921.0  United Kingdom       15.00   \n",
       "228013 2011-06-15 13:34:00       2.95     12877.0  United Kingdom       26.55   \n",
       "179912 2011-05-08 14:00:00       1.95     15421.0  United Kingdom       11.70   \n",
       "221660 2011-06-09 18:41:00       0.85     13969.0  United Kingdom        5.10   \n",
       "108933 2011-03-03 16:34:00       2.10     17700.0  United Kingdom       25.20   \n",
       "265179 2011-07-15 14:05:00       0.85     15004.0  United Kingdom        1.70   \n",
       "389601 2011-10-10 17:00:00       2.49     17459.0  United Kingdom        4.98   \n",
       "452480 2011-11-09 14:15:00      14.95     17867.0  United Kingdom       14.95   \n",
       "465026 2011-11-14 12:14:00       0.65     15572.0  United Kingdom        5.20   \n",
       "429672 2011-10-31 14:09:00       5.79     14096.0  United Kingdom       17.37   \n",
       "292058 2011-08-05 15:30:00       2.95     17220.0  United Kingdom        8.85   \n",
       "426839 2011-10-30 13:17:00       2.95     16361.0  United Kingdom       29.50   \n",
       "264791 2011-07-15 10:27:00       2.89     14907.0  United Kingdom       34.68   \n",
       "221415 2011-06-09 16:10:00       9.95     17841.0  United Kingdom        9.95   \n",
       "298656 2011-08-11 14:38:00       3.75     13263.0  United Kingdom        3.75   \n",
       "37274  2010-12-17 17:17:00       2.95     12748.0  United Kingdom        2.95   \n",
       "441853 2011-11-06 11:36:00       1.25     16434.0  United Kingdom        2.50   \n",
       "\n",
       "        Year  Month Day_of_Week  Is_weekend      Time Period  \\\n",
       "167039  2011      4    Thursday           0  16:59:00     PM   \n",
       "49295   2011      1      Sunday           1  11:34:00     AM   \n",
       "485830  2011     11      Monday           0  11:34:00     AM   \n",
       "452052  2011     11   Wednesday           0  13:17:00     PM   \n",
       "228013  2011      6   Wednesday           0  13:34:00     PM   \n",
       "179912  2011      5      Sunday           1  14:00:00     PM   \n",
       "221660  2011      6    Thursday           0  18:41:00     PM   \n",
       "108933  2011      3    Thursday           0  16:34:00     PM   \n",
       "265179  2011      7      Friday           0  14:05:00     PM   \n",
       "389601  2011     10      Monday           0  17:00:00     PM   \n",
       "452480  2011     11   Wednesday           0  14:15:00     PM   \n",
       "465026  2011     11      Monday           0  12:14:00     PM   \n",
       "429672  2011     10      Monday           0  14:09:00     PM   \n",
       "292058  2011      8      Friday           0  15:30:00     PM   \n",
       "426839  2011     10      Sunday           1  13:17:00     PM   \n",
       "264791  2011      7      Friday           0  10:27:00     AM   \n",
       "221415  2011      6    Thursday           0  16:10:00     PM   \n",
       "298656  2011      8    Thursday           0  14:38:00     PM   \n",
       "37274   2010     12      Friday           0  17:17:00     PM   \n",
       "441853  2011     11      Sunday           1  11:36:00     AM   \n",
       "\n",
       "                  Product_category  \n",
       "167039              Home & Kitchen  \n",
       "49295                   Home Decor  \n",
       "485830               Arts & Crafts  \n",
       "452052         Home & Living Decor  \n",
       "228013         Branded Accessories  \n",
       "179912                        Toys  \n",
       "221660   Home & Living Accessories  \n",
       "108933                        Toys  \n",
       "265179            Toys & Novelties  \n",
       "389601            Food & Beverages  \n",
       "452480            Outdoor & Garden  \n",
       "465026                  Home Decor  \n",
       "429672                        Toys  \n",
       "292058                Home & Décor  \n",
       "426839                        Toys  \n",
       "264791                        Toys  \n",
       "221415  Home & Kitchen Accessories  \n",
       "298656    Home & Office Organizers  \n",
       "37274                      Jewelry  \n",
       "441853   Home & Living Consumables  "
      ]
     },
     "execution_count": 128,
     "metadata": {},
     "output_type": "execute_result"
    }
   ],
   "source": [
    "test"
   ]
  },
  {
   "cell_type": "markdown",
   "metadata": {},
   "source": [
    "I tested with the code, and it can generate the value quite well. Unfortunately, 400k prompts generation requires me to pay again. So I will stop it here. "
   ]
  },
  {
   "cell_type": "code",
   "execution_count": 41,
   "metadata": {},
   "outputs": [],
   "source": [
    "df_cleaned.to_csv('cleaned_Online_Retail.csv')"
   ]
  },
  {
   "cell_type": "code",
   "execution_count": null,
   "metadata": {},
   "outputs": [],
   "source": []
  },
  {
   "cell_type": "code",
   "execution_count": null,
   "metadata": {},
   "outputs": [],
   "source": []
  },
  {
   "cell_type": "code",
   "execution_count": null,
   "metadata": {},
   "outputs": [],
   "source": []
  }
 ],
 "metadata": {
  "kernelspec": {
   "display_name": "TestEnv",
   "language": "python",
   "name": "python3"
  },
  "language_info": {
   "codemirror_mode": {
    "name": "ipython",
    "version": 3
   },
   "file_extension": ".py",
   "mimetype": "text/x-python",
   "name": "python",
   "nbconvert_exporter": "python",
   "pygments_lexer": "ipython3",
   "version": "3.11.9"
  }
 },
 "nbformat": 4,
 "nbformat_minor": 2
}
